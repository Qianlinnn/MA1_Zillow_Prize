{
 "cells": [
  {
   "cell_type": "code",
   "execution_count": 1,
   "metadata": {},
   "outputs": [],
   "source": [
    "import numpy as np\n",
    "import pandas as pd\n",
    "import os\n",
    "from sklearn import preprocessing, model_selection, metrics\n",
    "from lightgbm import LGBMRegressor, train, Dataset"
   ]
  },
  {
   "cell_type": "markdown",
   "metadata": {},
   "source": [
    "* **First, import data from csv.**"
   ]
  },
  {
   "cell_type": "code",
   "execution_count": 2,
   "metadata": {
    "scrolled": true
   },
   "outputs": [
    {
     "name": "stderr",
     "output_type": "stream",
     "text": [
      "C:\\software_program\\anaconda3\\lib\\site-packages\\IPython\\core\\interactiveshell.py:3058: DtypeWarning: Columns (22,32,34,49,55) have mixed types. Specify dtype option on import or set low_memory=False.\n",
      "  interactivity=interactivity, compiler=compiler, result=result)\n",
      "C:\\software_program\\anaconda3\\lib\\site-packages\\IPython\\core\\interactiveshell.py:3058: DtypeWarning: Columns (49) have mixed types. Specify dtype option on import or set low_memory=False.\n",
      "  interactivity=interactivity, compiler=compiler, result=result)\n"
     ]
    }
   ],
   "source": [
    "data_dir = '../input/'\n",
    "properties_2016 = pd.read_csv(data_dir + 'properties_2016.csv')\n",
    "properties_2017 = pd.read_csv(data_dir + 'properties_2017.csv')\n",
    "train_2016 = pd.read_csv(data_dir + 'train_2016_v2.csv')\n",
    "train_2017 = pd.read_csv(data_dir + 'train_2017.csv')\n",
    "sample_submission = pd.read_csv(data_dir + 'sample_submission.csv')"
   ]
  },
  {
   "cell_type": "code",
   "execution_count": 48,
   "metadata": {},
   "outputs": [
    {
     "data": {
      "text/plain": [
       "(2985217, 58)"
      ]
     },
     "execution_count": 48,
     "metadata": {},
     "output_type": "execute_result"
    }
   ],
   "source": [
    "properties_2016.shape"
   ]
  },
  {
   "cell_type": "code",
   "execution_count": 49,
   "metadata": {},
   "outputs": [
    {
     "data": {
      "text/plain": [
       "(2985217, 58)"
      ]
     },
     "execution_count": 49,
     "metadata": {},
     "output_type": "execute_result"
    }
   ],
   "source": [
    "properties_2017.shape"
   ]
  },
  {
   "cell_type": "markdown",
   "metadata": {},
   "source": [
    "* **It is verified below that all properties appear in 2016 training data also appear in 2017. Since 2017 training data include additional information for some properties which is not available in 2016 data, according to explanation from Kagle, 2017 data is used for training here.**"
   ]
  },
  {
   "cell_type": "code",
   "execution_count": 3,
   "metadata": {},
   "outputs": [
    {
     "data": {
      "text/html": [
       "<div>\n",
       "<style scoped>\n",
       "    .dataframe tbody tr th:only-of-type {\n",
       "        vertical-align: middle;\n",
       "    }\n",
       "\n",
       "    .dataframe tbody tr th {\n",
       "        vertical-align: top;\n",
       "    }\n",
       "\n",
       "    .dataframe thead th {\n",
       "        text-align: right;\n",
       "    }\n",
       "</style>\n",
       "<table border=\"1\" class=\"dataframe\">\n",
       "  <thead>\n",
       "    <tr style=\"text-align: right;\">\n",
       "      <th></th>\n",
       "      <th>parcelid</th>\n",
       "      <th>airconditioningtypeid</th>\n",
       "      <th>architecturalstyletypeid</th>\n",
       "      <th>basementsqft</th>\n",
       "      <th>bathroomcnt</th>\n",
       "      <th>bedroomcnt</th>\n",
       "      <th>buildingclasstypeid</th>\n",
       "      <th>buildingqualitytypeid</th>\n",
       "      <th>calculatedbathnbr</th>\n",
       "      <th>decktypeid</th>\n",
       "      <th>...</th>\n",
       "      <th>numberofstories</th>\n",
       "      <th>fireplaceflag</th>\n",
       "      <th>structuretaxvaluedollarcnt</th>\n",
       "      <th>taxvaluedollarcnt</th>\n",
       "      <th>assessmentyear</th>\n",
       "      <th>landtaxvaluedollarcnt</th>\n",
       "      <th>taxamount</th>\n",
       "      <th>taxdelinquencyflag</th>\n",
       "      <th>taxdelinquencyyear</th>\n",
       "      <th>censustractandblock</th>\n",
       "    </tr>\n",
       "  </thead>\n",
       "  <tbody>\n",
       "  </tbody>\n",
       "</table>\n",
       "<p>0 rows × 58 columns</p>\n",
       "</div>"
      ],
      "text/plain": [
       "Empty DataFrame\n",
       "Columns: [parcelid, airconditioningtypeid, architecturalstyletypeid, basementsqft, bathroomcnt, bedroomcnt, buildingclasstypeid, buildingqualitytypeid, calculatedbathnbr, decktypeid, finishedfloor1squarefeet, calculatedfinishedsquarefeet, finishedsquarefeet12, finishedsquarefeet13, finishedsquarefeet15, finishedsquarefeet50, finishedsquarefeet6, fips, fireplacecnt, fullbathcnt, garagecarcnt, garagetotalsqft, hashottuborspa, heatingorsystemtypeid, latitude, longitude, lotsizesquarefeet, poolcnt, poolsizesum, pooltypeid10, pooltypeid2, pooltypeid7, propertycountylandusecode, propertylandusetypeid, propertyzoningdesc, rawcensustractandblock, regionidcity, regionidcounty, regionidneighborhood, regionidzip, roomcnt, storytypeid, threequarterbathnbr, typeconstructiontypeid, unitcnt, yardbuildingsqft17, yardbuildingsqft26, yearbuilt, numberofstories, fireplaceflag, structuretaxvaluedollarcnt, taxvaluedollarcnt, assessmentyear, landtaxvaluedollarcnt, taxamount, taxdelinquencyflag, taxdelinquencyyear, censustractandblock]\n",
       "Index: []\n",
       "\n",
       "[0 rows x 58 columns]"
      ]
     },
     "execution_count": 3,
     "metadata": {},
     "output_type": "execute_result"
    }
   ],
   "source": [
    "properties_2016.loc[~properties_2016['parcelid'].isin(properties_2017['parcelid'])]"
   ]
  },
  {
   "cell_type": "markdown",
   "metadata": {},
   "source": [
    "* **Here transaction information is joined with property features to form a complete set of data.**"
   ]
  },
  {
   "cell_type": "code",
   "execution_count": 4,
   "metadata": {},
   "outputs": [],
   "source": [
    "data_2016 = train_2016.merge(properties_2017, on='parcelid', how='left')\n",
    "data_2017 = train_2017.merge(properties_2017, on='parcelid', how='left')\n",
    "data_2016[['transactionyear', 'transactionmonth', 'transactionday']] = data_2016['transactiondate'].str.split('-', expand=True)\n",
    "data_2017[['transactionyear', 'transactionmonth', 'transactionday']] = data_2017['transactiondate'].str.split('-', expand=True)\n",
    "data = pd.concat([data_2016, data_2017], ignore_index=True)"
   ]
  },
  {
   "cell_type": "code",
   "execution_count": 8,
   "metadata": {},
   "outputs": [
    {
     "data": {
      "text/html": [
       "<div>\n",
       "<style scoped>\n",
       "    .dataframe tbody tr th:only-of-type {\n",
       "        vertical-align: middle;\n",
       "    }\n",
       "\n",
       "    .dataframe tbody tr th {\n",
       "        vertical-align: top;\n",
       "    }\n",
       "\n",
       "    .dataframe thead th {\n",
       "        text-align: right;\n",
       "    }\n",
       "</style>\n",
       "<table border=\"1\" class=\"dataframe\">\n",
       "  <thead>\n",
       "    <tr style=\"text-align: right;\">\n",
       "      <th></th>\n",
       "      <th>parcelid</th>\n",
       "      <th>logerror</th>\n",
       "      <th>transactiondate</th>\n",
       "      <th>airconditioningtypeid</th>\n",
       "      <th>architecturalstyletypeid</th>\n",
       "      <th>basementsqft</th>\n",
       "      <th>bathroomcnt</th>\n",
       "      <th>bedroomcnt</th>\n",
       "      <th>buildingclasstypeid</th>\n",
       "      <th>buildingqualitytypeid</th>\n",
       "      <th>...</th>\n",
       "      <th>taxvaluedollarcnt</th>\n",
       "      <th>assessmentyear</th>\n",
       "      <th>landtaxvaluedollarcnt</th>\n",
       "      <th>taxamount</th>\n",
       "      <th>taxdelinquencyflag</th>\n",
       "      <th>taxdelinquencyyear</th>\n",
       "      <th>censustractandblock</th>\n",
       "      <th>transactionyear</th>\n",
       "      <th>transactionmonth</th>\n",
       "      <th>transactionday</th>\n",
       "    </tr>\n",
       "  </thead>\n",
       "  <tbody>\n",
       "    <tr>\n",
       "      <td>0</td>\n",
       "      <td>11016594</td>\n",
       "      <td>0.027600</td>\n",
       "      <td>2016-01-01</td>\n",
       "      <td>1.0</td>\n",
       "      <td>NaN</td>\n",
       "      <td>NaN</td>\n",
       "      <td>2.0</td>\n",
       "      <td>3.0</td>\n",
       "      <td>NaN</td>\n",
       "      <td>8.0</td>\n",
       "      <td>...</td>\n",
       "      <td>545000.0</td>\n",
       "      <td>2016.0</td>\n",
       "      <td>327000.0</td>\n",
       "      <td>6735.88</td>\n",
       "      <td>NaN</td>\n",
       "      <td>NaN</td>\n",
       "      <td>6.037107e+13</td>\n",
       "      <td>2016</td>\n",
       "      <td>01</td>\n",
       "      <td>01</td>\n",
       "    </tr>\n",
       "    <tr>\n",
       "      <td>1</td>\n",
       "      <td>14366692</td>\n",
       "      <td>-0.168400</td>\n",
       "      <td>2016-01-01</td>\n",
       "      <td>NaN</td>\n",
       "      <td>NaN</td>\n",
       "      <td>NaN</td>\n",
       "      <td>3.5</td>\n",
       "      <td>4.0</td>\n",
       "      <td>NaN</td>\n",
       "      <td>NaN</td>\n",
       "      <td>...</td>\n",
       "      <td>974900.0</td>\n",
       "      <td>2016.0</td>\n",
       "      <td>628442.0</td>\n",
       "      <td>10153.02</td>\n",
       "      <td>NaN</td>\n",
       "      <td>NaN</td>\n",
       "      <td>NaN</td>\n",
       "      <td>2016</td>\n",
       "      <td>01</td>\n",
       "      <td>01</td>\n",
       "    </tr>\n",
       "    <tr>\n",
       "      <td>2</td>\n",
       "      <td>12098116</td>\n",
       "      <td>-0.004000</td>\n",
       "      <td>2016-01-01</td>\n",
       "      <td>1.0</td>\n",
       "      <td>NaN</td>\n",
       "      <td>NaN</td>\n",
       "      <td>3.0</td>\n",
       "      <td>2.0</td>\n",
       "      <td>NaN</td>\n",
       "      <td>8.0</td>\n",
       "      <td>...</td>\n",
       "      <td>989500.0</td>\n",
       "      <td>2016.0</td>\n",
       "      <td>791600.0</td>\n",
       "      <td>11484.48</td>\n",
       "      <td>NaN</td>\n",
       "      <td>NaN</td>\n",
       "      <td>6.037464e+13</td>\n",
       "      <td>2016</td>\n",
       "      <td>01</td>\n",
       "      <td>01</td>\n",
       "    </tr>\n",
       "    <tr>\n",
       "      <td>3</td>\n",
       "      <td>12643413</td>\n",
       "      <td>0.021800</td>\n",
       "      <td>2016-01-02</td>\n",
       "      <td>1.0</td>\n",
       "      <td>NaN</td>\n",
       "      <td>NaN</td>\n",
       "      <td>2.0</td>\n",
       "      <td>2.0</td>\n",
       "      <td>NaN</td>\n",
       "      <td>7.0</td>\n",
       "      <td>...</td>\n",
       "      <td>248613.0</td>\n",
       "      <td>2016.0</td>\n",
       "      <td>74480.0</td>\n",
       "      <td>3048.74</td>\n",
       "      <td>NaN</td>\n",
       "      <td>NaN</td>\n",
       "      <td>6.037296e+13</td>\n",
       "      <td>2016</td>\n",
       "      <td>01</td>\n",
       "      <td>02</td>\n",
       "    </tr>\n",
       "    <tr>\n",
       "      <td>4</td>\n",
       "      <td>14432541</td>\n",
       "      <td>-0.005000</td>\n",
       "      <td>2016-01-02</td>\n",
       "      <td>NaN</td>\n",
       "      <td>NaN</td>\n",
       "      <td>NaN</td>\n",
       "      <td>2.5</td>\n",
       "      <td>4.0</td>\n",
       "      <td>NaN</td>\n",
       "      <td>NaN</td>\n",
       "      <td>...</td>\n",
       "      <td>441177.0</td>\n",
       "      <td>2016.0</td>\n",
       "      <td>269017.0</td>\n",
       "      <td>5488.96</td>\n",
       "      <td>NaN</td>\n",
       "      <td>NaN</td>\n",
       "      <td>6.059042e+13</td>\n",
       "      <td>2016</td>\n",
       "      <td>01</td>\n",
       "      <td>02</td>\n",
       "    </tr>\n",
       "    <tr>\n",
       "      <td>...</td>\n",
       "      <td>...</td>\n",
       "      <td>...</td>\n",
       "      <td>...</td>\n",
       "      <td>...</td>\n",
       "      <td>...</td>\n",
       "      <td>...</td>\n",
       "      <td>...</td>\n",
       "      <td>...</td>\n",
       "      <td>...</td>\n",
       "      <td>...</td>\n",
       "      <td>...</td>\n",
       "      <td>...</td>\n",
       "      <td>...</td>\n",
       "      <td>...</td>\n",
       "      <td>...</td>\n",
       "      <td>...</td>\n",
       "      <td>...</td>\n",
       "      <td>...</td>\n",
       "      <td>...</td>\n",
       "      <td>...</td>\n",
       "      <td>...</td>\n",
       "    </tr>\n",
       "    <tr>\n",
       "      <td>167883</td>\n",
       "      <td>10833991</td>\n",
       "      <td>-0.002245</td>\n",
       "      <td>2017-09-20</td>\n",
       "      <td>1.0</td>\n",
       "      <td>NaN</td>\n",
       "      <td>NaN</td>\n",
       "      <td>3.0</td>\n",
       "      <td>3.0</td>\n",
       "      <td>NaN</td>\n",
       "      <td>8.0</td>\n",
       "      <td>...</td>\n",
       "      <td>379000.0</td>\n",
       "      <td>2016.0</td>\n",
       "      <td>114000.0</td>\n",
       "      <td>4685.34</td>\n",
       "      <td>NaN</td>\n",
       "      <td>NaN</td>\n",
       "      <td>6.037132e+13</td>\n",
       "      <td>2017</td>\n",
       "      <td>09</td>\n",
       "      <td>20</td>\n",
       "    </tr>\n",
       "    <tr>\n",
       "      <td>167884</td>\n",
       "      <td>11000655</td>\n",
       "      <td>0.020615</td>\n",
       "      <td>2017-09-20</td>\n",
       "      <td>NaN</td>\n",
       "      <td>NaN</td>\n",
       "      <td>NaN</td>\n",
       "      <td>2.0</td>\n",
       "      <td>2.0</td>\n",
       "      <td>NaN</td>\n",
       "      <td>6.0</td>\n",
       "      <td>...</td>\n",
       "      <td>354621.0</td>\n",
       "      <td>2016.0</td>\n",
       "      <td>283704.0</td>\n",
       "      <td>4478.43</td>\n",
       "      <td>NaN</td>\n",
       "      <td>NaN</td>\n",
       "      <td>6.037101e+13</td>\n",
       "      <td>2017</td>\n",
       "      <td>09</td>\n",
       "      <td>20</td>\n",
       "    </tr>\n",
       "    <tr>\n",
       "      <td>167885</td>\n",
       "      <td>17239384</td>\n",
       "      <td>0.013209</td>\n",
       "      <td>2017-09-21</td>\n",
       "      <td>NaN</td>\n",
       "      <td>NaN</td>\n",
       "      <td>NaN</td>\n",
       "      <td>2.0</td>\n",
       "      <td>4.0</td>\n",
       "      <td>NaN</td>\n",
       "      <td>NaN</td>\n",
       "      <td>...</td>\n",
       "      <td>67205.0</td>\n",
       "      <td>2016.0</td>\n",
       "      <td>16522.0</td>\n",
       "      <td>1107.48</td>\n",
       "      <td>NaN</td>\n",
       "      <td>NaN</td>\n",
       "      <td>6.111008e+13</td>\n",
       "      <td>2017</td>\n",
       "      <td>09</td>\n",
       "      <td>21</td>\n",
       "    </tr>\n",
       "    <tr>\n",
       "      <td>167886</td>\n",
       "      <td>12773139</td>\n",
       "      <td>0.037129</td>\n",
       "      <td>2017-09-21</td>\n",
       "      <td>1.0</td>\n",
       "      <td>NaN</td>\n",
       "      <td>NaN</td>\n",
       "      <td>1.0</td>\n",
       "      <td>3.0</td>\n",
       "      <td>NaN</td>\n",
       "      <td>4.0</td>\n",
       "      <td>...</td>\n",
       "      <td>49546.0</td>\n",
       "      <td>2016.0</td>\n",
       "      <td>16749.0</td>\n",
       "      <td>876.43</td>\n",
       "      <td>NaN</td>\n",
       "      <td>NaN</td>\n",
       "      <td>6.037434e+13</td>\n",
       "      <td>2017</td>\n",
       "      <td>09</td>\n",
       "      <td>21</td>\n",
       "    </tr>\n",
       "    <tr>\n",
       "      <td>167887</td>\n",
       "      <td>12826780</td>\n",
       "      <td>0.007204</td>\n",
       "      <td>2017-09-25</td>\n",
       "      <td>NaN</td>\n",
       "      <td>NaN</td>\n",
       "      <td>NaN</td>\n",
       "      <td>2.0</td>\n",
       "      <td>3.0</td>\n",
       "      <td>NaN</td>\n",
       "      <td>6.0</td>\n",
       "      <td>...</td>\n",
       "      <td>522000.0</td>\n",
       "      <td>2016.0</td>\n",
       "      <td>382000.0</td>\n",
       "      <td>6317.15</td>\n",
       "      <td>NaN</td>\n",
       "      <td>NaN</td>\n",
       "      <td>6.037503e+13</td>\n",
       "      <td>2017</td>\n",
       "      <td>09</td>\n",
       "      <td>25</td>\n",
       "    </tr>\n",
       "  </tbody>\n",
       "</table>\n",
       "<p>167888 rows × 63 columns</p>\n",
       "</div>"
      ],
      "text/plain": [
       "        parcelid  logerror transactiondate  airconditioningtypeid  \\\n",
       "0       11016594  0.027600      2016-01-01                    1.0   \n",
       "1       14366692 -0.168400      2016-01-01                    NaN   \n",
       "2       12098116 -0.004000      2016-01-01                    1.0   \n",
       "3       12643413  0.021800      2016-01-02                    1.0   \n",
       "4       14432541 -0.005000      2016-01-02                    NaN   \n",
       "...          ...       ...             ...                    ...   \n",
       "167883  10833991 -0.002245      2017-09-20                    1.0   \n",
       "167884  11000655  0.020615      2017-09-20                    NaN   \n",
       "167885  17239384  0.013209      2017-09-21                    NaN   \n",
       "167886  12773139  0.037129      2017-09-21                    1.0   \n",
       "167887  12826780  0.007204      2017-09-25                    NaN   \n",
       "\n",
       "        architecturalstyletypeid  basementsqft  bathroomcnt  bedroomcnt  \\\n",
       "0                            NaN           NaN          2.0         3.0   \n",
       "1                            NaN           NaN          3.5         4.0   \n",
       "2                            NaN           NaN          3.0         2.0   \n",
       "3                            NaN           NaN          2.0         2.0   \n",
       "4                            NaN           NaN          2.5         4.0   \n",
       "...                          ...           ...          ...         ...   \n",
       "167883                       NaN           NaN          3.0         3.0   \n",
       "167884                       NaN           NaN          2.0         2.0   \n",
       "167885                       NaN           NaN          2.0         4.0   \n",
       "167886                       NaN           NaN          1.0         3.0   \n",
       "167887                       NaN           NaN          2.0         3.0   \n",
       "\n",
       "        buildingclasstypeid  buildingqualitytypeid  ...  taxvaluedollarcnt  \\\n",
       "0                       NaN                    8.0  ...           545000.0   \n",
       "1                       NaN                    NaN  ...           974900.0   \n",
       "2                       NaN                    8.0  ...           989500.0   \n",
       "3                       NaN                    7.0  ...           248613.0   \n",
       "4                       NaN                    NaN  ...           441177.0   \n",
       "...                     ...                    ...  ...                ...   \n",
       "167883                  NaN                    8.0  ...           379000.0   \n",
       "167884                  NaN                    6.0  ...           354621.0   \n",
       "167885                  NaN                    NaN  ...            67205.0   \n",
       "167886                  NaN                    4.0  ...            49546.0   \n",
       "167887                  NaN                    6.0  ...           522000.0   \n",
       "\n",
       "        assessmentyear  landtaxvaluedollarcnt  taxamount  taxdelinquencyflag  \\\n",
       "0               2016.0               327000.0    6735.88                 NaN   \n",
       "1               2016.0               628442.0   10153.02                 NaN   \n",
       "2               2016.0               791600.0   11484.48                 NaN   \n",
       "3               2016.0                74480.0    3048.74                 NaN   \n",
       "4               2016.0               269017.0    5488.96                 NaN   \n",
       "...                ...                    ...        ...                 ...   \n",
       "167883          2016.0               114000.0    4685.34                 NaN   \n",
       "167884          2016.0               283704.0    4478.43                 NaN   \n",
       "167885          2016.0                16522.0    1107.48                 NaN   \n",
       "167886          2016.0                16749.0     876.43                 NaN   \n",
       "167887          2016.0               382000.0    6317.15                 NaN   \n",
       "\n",
       "        taxdelinquencyyear  censustractandblock  transactionyear  \\\n",
       "0                      NaN         6.037107e+13             2016   \n",
       "1                      NaN                  NaN             2016   \n",
       "2                      NaN         6.037464e+13             2016   \n",
       "3                      NaN         6.037296e+13             2016   \n",
       "4                      NaN         6.059042e+13             2016   \n",
       "...                    ...                  ...              ...   \n",
       "167883                 NaN         6.037132e+13             2017   \n",
       "167884                 NaN         6.037101e+13             2017   \n",
       "167885                 NaN         6.111008e+13             2017   \n",
       "167886                 NaN         6.037434e+13             2017   \n",
       "167887                 NaN         6.037503e+13             2017   \n",
       "\n",
       "        transactionmonth  transactionday  \n",
       "0                     01              01  \n",
       "1                     01              01  \n",
       "2                     01              01  \n",
       "3                     01              02  \n",
       "4                     01              02  \n",
       "...                  ...             ...  \n",
       "167883                09              20  \n",
       "167884                09              20  \n",
       "167885                09              21  \n",
       "167886                09              21  \n",
       "167887                09              25  \n",
       "\n",
       "[167888 rows x 63 columns]"
      ]
     },
     "execution_count": 8,
     "metadata": {},
     "output_type": "execute_result"
    }
   ],
   "source": [
    "data"
   ]
  },
  {
   "cell_type": "markdown",
   "metadata": {},
   "source": [
    "* **The following step checks what kinds of features the data have.**"
   ]
  },
  {
   "cell_type": "code",
   "execution_count": 5,
   "metadata": {},
   "outputs": [
    {
     "data": {
      "text/plain": [
       "Counter({dtype('O'): 9, dtype('float64'): 52})"
      ]
     },
     "execution_count": 5,
     "metadata": {},
     "output_type": "execute_result"
    }
   ],
   "source": [
    "import collections\n",
    "collections.Counter(data.dtypes[2:])"
   ]
  },
  {
   "cell_type": "markdown",
   "metadata": {},
   "source": [
    "* **There are numerical and categorical features. For the sake of convenience the data are split into 2 parts in terms of numerical features and categorical features.**"
   ]
  },
  {
   "cell_type": "code",
   "execution_count": 7,
   "metadata": {},
   "outputs": [],
   "source": [
    "# categorical_properties = np.array([column for column in data_2017 if str(data_2017[column].dtypes) == 'object'])\n",
    "# numerical_properties = np.array([column for column in data_2017 if str(data_2017[column].dtypes) == 'float64'])[1:]"
   ]
  },
  {
   "cell_type": "code",
   "execution_count": 6,
   "metadata": {},
   "outputs": [],
   "source": [
    "categorical_properties = [p for p in data if str(data[p].dtypes) == 'object' or ('id' in p and 'parcelid' not in p) or 'fips' in p or 'censustractandblock' in p]\n",
    "numerical_properties = [p for p in data if p not in categorical_properties and p != 'parcelid' and p!= 'logerror']"
   ]
  },
  {
   "cell_type": "code",
   "execution_count": 7,
   "metadata": {},
   "outputs": [
    {
     "data": {
      "text/plain": [
       "['basementsqft',\n",
       " 'bathroomcnt',\n",
       " 'bedroomcnt',\n",
       " 'calculatedbathnbr',\n",
       " 'finishedfloor1squarefeet',\n",
       " 'calculatedfinishedsquarefeet',\n",
       " 'finishedsquarefeet12',\n",
       " 'finishedsquarefeet13',\n",
       " 'finishedsquarefeet15',\n",
       " 'finishedsquarefeet50']"
      ]
     },
     "execution_count": 7,
     "metadata": {},
     "output_type": "execute_result"
    }
   ],
   "source": [
    "numerical_properties[:10]"
   ]
  },
  {
   "cell_type": "code",
   "execution_count": 8,
   "metadata": {},
   "outputs": [
    {
     "data": {
      "text/plain": [
       "['transactiondate',\n",
       " 'airconditioningtypeid',\n",
       " 'architecturalstyletypeid',\n",
       " 'buildingclasstypeid',\n",
       " 'buildingqualitytypeid',\n",
       " 'decktypeid',\n",
       " 'fips',\n",
       " 'hashottuborspa',\n",
       " 'heatingorsystemtypeid',\n",
       " 'pooltypeid10']"
      ]
     },
     "execution_count": 8,
     "metadata": {},
     "output_type": "execute_result"
    }
   ],
   "source": [
    "categorical_properties[:10]"
   ]
  },
  {
   "cell_type": "code",
   "execution_count": 10,
   "metadata": {},
   "outputs": [],
   "source": [
    "data_cat = data[np.append(['parcelid', 'logerror'], categorical_properties)]\n",
    "data_num = data[np.append(['parcelid', 'logerror'], numerical_properties)]"
   ]
  },
  {
   "cell_type": "markdown",
   "metadata": {},
   "source": [
    "* **NaNs in numerical data are replaced with mean value of the corresponding feature; categorical with mode.**"
   ]
  },
  {
   "cell_type": "code",
   "execution_count": 11,
   "metadata": {},
   "outputs": [],
   "source": [
    "data_num_filled = data_num.fillna(data_num.mean())\n",
    "data_cat_filled = data_cat.fillna(data_cat.mode().iloc[0])"
   ]
  },
  {
   "cell_type": "markdown",
   "metadata": {},
   "source": [
    "* **Correlation between each individual numerical feature and logerror are calculated. TopN most correlated features are selected.**"
   ]
  },
  {
   "cell_type": "code",
   "execution_count": 12,
   "metadata": {},
   "outputs": [],
   "source": [
    "cors = {column: data_num_filled['logerror'].corr(data_num_filled[column]) for column in numerical_properties[1:]}\n",
    "cors = {key:value for (key, value) in cors.items() if not np.isnan(value)} # removing nan values\n",
    "cors_sorted = dict(sorted(cors.items(), key=lambda item:np.abs(item[1]), reverse=True))"
   ]
  },
  {
   "cell_type": "code",
   "execution_count": 13,
   "metadata": {},
   "outputs": [],
   "source": [
    "topN = 10\n",
    "features_num = set(dict(sorted(cors_sorted.items(), key=lambda item:np.abs(item[1]), reverse=True)[:topN]).keys())\n",
    "features_num.add('transactionyear')\n",
    "# transaction year is included here because it will be used in prediction"
   ]
  },
  {
   "cell_type": "code",
   "execution_count": 14,
   "metadata": {},
   "outputs": [
    {
     "data": {
      "text/plain": [
       "{'garagecarcnt': 0.014458426137687325,\n",
       " 'calculatedfinishedsquarefeet': 0.038283474667789044,\n",
       " 'taxdelinquencyyear': -0.010751199215757783,\n",
       " 'finishedsquarefeet12': 0.040101913730560615,\n",
       " 'fullbathcnt': 0.026341058203474488,\n",
       " 'yearbuilt': 0.009823573845404594,\n",
       " 'garagetotalsqft': 0.015742737146362422,\n",
       " 'calculatedbathnbr': 0.02755502072646444,\n",
       " 'bedroomcnt': 0.027185755309712675,\n",
       " 'bathroomcnt': 0.025053101781299277}"
      ]
     },
     "execution_count": 14,
     "metadata": {},
     "output_type": "execute_result"
    }
   ],
   "source": [
    "{k:cors[k] for k in features_num if k in cors}"
   ]
  },
  {
   "cell_type": "markdown",
   "metadata": {},
   "source": [
    "* **The same is done with categorical features.**"
   ]
  },
  {
   "cell_type": "code",
   "execution_count": 15,
   "metadata": {},
   "outputs": [],
   "source": [
    "le = preprocessing.LabelEncoder()\n",
    "cors_cat = {}\n",
    "cors_cat = {column: data_cat_filled['logerror'].corr(pd.Series(le.fit_transform(data_cat_filled[column]))) for column in categorical_properties}\n",
    "cors_cat = {key:value for (key, value) in cors_cat.items() if not np.isnan(value)} # removing nan values\n",
    "cors_cat_sorted = dict(sorted(cors_cat.items(), key=lambda item:np.abs(item[1]), reverse=True))\n",
    "\n",
    "# for feature in categorical_properties:\n",
    "#     x = pd.Series(le.fit_transform(data_cat_2016_filled[feature]))\n",
    "#     y = data_2016[data_2016[feature].notna()]['logerror']\n",
    "#     cors_cat[feature] = x.corr(y)"
   ]
  },
  {
   "cell_type": "code",
   "execution_count": 16,
   "metadata": {},
   "outputs": [],
   "source": [
    "topN_cat = 12\n",
    "features_cat = set(dict(sorted(cors_cat_sorted.items(), key=lambda item:np.abs(item[1]), reverse=True)[:topN_cat]).keys())\n",
    "features_cat.add('transactionmonth')\n",
    "features_cat.discard('transactiondate')\n",
    "features_cat.discard('transactionyear')\n",
    "# transaction month is included here because it will be used in prediction"
   ]
  },
  {
   "cell_type": "code",
   "execution_count": 17,
   "metadata": {},
   "outputs": [
    {
     "data": {
      "text/plain": [
       "{'fips': 0.00825309457357788,\n",
       " 'regionidneighborhood': -0.00706241284358163,\n",
       " 'censustractandblock': 0.005994429749113647,\n",
       " 'heatingorsystemtypeid': -0.015668568378374294,\n",
       " 'propertylandusetypeid': -0.00632961765610038,\n",
       " 'buildingclasstypeid': 0.00605592739469304,\n",
       " 'propertyzoningdesc': -0.006380099021812083,\n",
       " 'regionidzip': 0.01603424271883758,\n",
       " 'propertycountylandusecode': 0.005540343271338882,\n",
       " 'regionidcounty': -0.007488740973833986,\n",
       " 'transactionmonth': 0.003795931770945203}"
      ]
     },
     "execution_count": 17,
     "metadata": {},
     "output_type": "execute_result"
    }
   ],
   "source": [
    "{k:cors_cat[k] for k in features_cat}"
   ]
  },
  {
   "cell_type": "markdown",
   "metadata": {},
   "source": [
    "* **Numerical and categorical features combined forms our features of interest.**"
   ]
  },
  {
   "cell_type": "code",
   "execution_count": 18,
   "metadata": {},
   "outputs": [],
   "source": [
    "features = features_num.union(features_cat)"
   ]
  },
  {
   "cell_type": "code",
   "execution_count": 22,
   "metadata": {},
   "outputs": [
    {
     "data": {
      "text/plain": [
       "{'bathroomcnt',\n",
       " 'bedroomcnt',\n",
       " 'buildingclasstypeid',\n",
       " 'calculatedbathnbr',\n",
       " 'calculatedfinishedsquarefeet',\n",
       " 'censustractandblock',\n",
       " 'finishedsquarefeet12',\n",
       " 'fips',\n",
       " 'fullbathcnt',\n",
       " 'garagecarcnt',\n",
       " 'garagetotalsqft',\n",
       " 'heatingorsystemtypeid',\n",
       " 'propertycountylandusecode',\n",
       " 'propertylandusetypeid',\n",
       " 'propertyzoningdesc',\n",
       " 'regionidcounty',\n",
       " 'regionidneighborhood',\n",
       " 'regionidzip',\n",
       " 'taxdelinquencyyear',\n",
       " 'transactionmonth',\n",
       " 'transactionyear',\n",
       " 'yearbuilt'}"
      ]
     },
     "execution_count": 22,
     "metadata": {},
     "output_type": "execute_result"
    }
   ],
   "source": [
    "features"
   ]
  },
  {
   "cell_type": "code",
   "execution_count": 19,
   "metadata": {},
   "outputs": [],
   "source": [
    "processed_data = data[{'logerror'}.union(features)]\n",
    "# data with interested features"
   ]
  },
  {
   "cell_type": "code",
   "execution_count": 20,
   "metadata": {},
   "outputs": [],
   "source": [
    "processed_data_filled = processed_data.copy()"
   ]
  },
  {
   "cell_type": "code",
   "execution_count": 21,
   "metadata": {},
   "outputs": [],
   "source": [
    "processed_data_filled.loc[:, features_cat] = data_cat_filled\n",
    "processed_data_filled.loc[:, features_num] = data_num_filled\n",
    "# processed_data_filled are data with NaN filled"
   ]
  },
  {
   "cell_type": "markdown",
   "metadata": {},
   "source": [
    "* **Since according to \"Advanced Topics - Categorical Feature Support\" (on https://github.com/Microsoft/LightGBM/blob/master/docs/Advanced-Topics.rst#missing-value-handle), categorical features with high cardinality usually is best treated as numerical features. Therefore, based on the output of the following cell, \"censustractandblock\" is to be considered as a numerical.**"
   ]
  },
  {
   "cell_type": "code",
   "execution_count": 22,
   "metadata": {},
   "outputs": [
    {
     "data": {
      "text/plain": [
       "fips                             3\n",
       "regionidneighborhood           505\n",
       "censustractandblock          57542\n",
       "heatingorsystemtypeid           12\n",
       "propertylandusetypeid           14\n",
       "buildingclasstypeid              2\n",
       "propertyzoningdesc            2346\n",
       "regionidzip                    390\n",
       "propertycountylandusecode       84\n",
       "regionidcounty                   3\n",
       "transactionmonth                12\n",
       "dtype: int64"
      ]
     },
     "execution_count": 22,
     "metadata": {},
     "output_type": "execute_result"
    }
   ],
   "source": [
    "processed_data[features_cat].nunique()"
   ]
  },
  {
   "cell_type": "code",
   "execution_count": 23,
   "metadata": {},
   "outputs": [
    {
     "data": {
      "text/plain": [
       "dtype('float64')"
      ]
     },
     "execution_count": 23,
     "metadata": {},
     "output_type": "execute_result"
    }
   ],
   "source": [
    "processed_data['censustractandblock'].dtypes"
   ]
  },
  {
   "cell_type": "markdown",
   "metadata": {},
   "source": [
    "This feature is already treated as numerical in the dataframe. Therefore no encoding is needed. It just need to be moved from categorical features to numerical features. "
   ]
  },
  {
   "cell_type": "code",
   "execution_count": 24,
   "metadata": {},
   "outputs": [],
   "source": [
    "features_num.add('censustractandblock')\n",
    "features_cat.discard('censustractandblock')"
   ]
  },
  {
   "cell_type": "markdown",
   "metadata": {},
   "source": [
    "* **Check data type of features and encode categories.**"
   ]
  },
  {
   "cell_type": "code",
   "execution_count": 25,
   "metadata": {},
   "outputs": [
    {
     "data": {
      "text/plain": [
       "fips                            float64\n",
       "garagecarcnt                    float64\n",
       "regionidneighborhood            float64\n",
       "censustractandblock             float64\n",
       "taxdelinquencyyear              float64\n",
       "heatingorsystemtypeid           float64\n",
       "propertylandusetypeid           float64\n",
       "finishedsquarefeet12            float64\n",
       "fullbathcnt                     float64\n",
       "yearbuilt                       float64\n",
       "garagetotalsqft                 float64\n",
       "bedroomcnt                      float64\n",
       "bathroomcnt                     float64\n",
       "propertycountylandusecode        object\n",
       "regionidcounty                  float64\n",
       "transactionmonth                 object\n",
       "calculatedfinishedsquarefeet    float64\n",
       "transactionyear                  object\n",
       "buildingclasstypeid             float64\n",
       "propertyzoningdesc               object\n",
       "calculatedbathnbr               float64\n",
       "regionidzip                     float64\n",
       "dtype: object"
      ]
     },
     "execution_count": 25,
     "metadata": {},
     "output_type": "execute_result"
    }
   ],
   "source": [
    "processed_data[features].dtypes"
   ]
  },
  {
   "cell_type": "code",
   "execution_count": 26,
   "metadata": {},
   "outputs": [
    {
     "name": "stderr",
     "output_type": "stream",
     "text": [
      "C:\\software_program\\anaconda3\\lib\\site-packages\\pandas\\core\\indexing.py:494: SettingWithCopyWarning: \n",
      "A value is trying to be set on a copy of a slice from a DataFrame.\n",
      "Try using .loc[row_indexer,col_indexer] = value instead\n",
      "\n",
      "See the caveats in the documentation: http://pandas.pydata.org/pandas-docs/stable/user_guide/indexing.html#returning-a-view-versus-a-copy\n",
      "  self.obj[item] = s\n"
     ]
    }
   ],
   "source": [
    "le_pluc = preprocessing.LabelEncoder()\n",
    "le_pzd = preprocessing.LabelEncoder()\n",
    "# propertycountylandusecode\n",
    "processed_data.loc[processed_data['propertycountylandusecode'].notna(), 'propertycountylandusecode'] = le_pluc.fit_transform(processed_data.loc[processed_data['propertycountylandusecode'].notna(), 'propertycountylandusecode'])\n",
    "processed_data.loc[processed_data['propertyzoningdesc'].notna(), 'propertyzoningdesc'] = le_pzd.fit_transform(processed_data.loc[processed_data['propertyzoningdesc'].notna(), 'propertyzoningdesc'])\n",
    "processed_data.loc[:, ['transactionmonth', 'transactionyear', 'propertycountylandusecode', 'propertyzoningdesc']] = processed_data.loc[:, ['transactionmonth', 'transactionyear', 'propertycountylandusecode', 'propertyzoningdesc']].astype('str').astype('float')\n",
    "for feature in features_cat:\n",
    "    processed_data.loc[:,feature] = processed_data[feature].astype('category')"
   ]
  },
  {
   "cell_type": "markdown",
   "metadata": {},
   "source": [
    "* **Steps above are the preprocessing of data. Now it's time to train the model. First split data into training and test sets.**"
   ]
  },
  {
   "cell_type": "code",
   "execution_count": 27,
   "metadata": {},
   "outputs": [],
   "source": [
    "training_data, test_data = model_selection.train_test_split(processed_data, test_size=0.2, random_state=6911)"
   ]
  },
  {
   "cell_type": "markdown",
   "metadata": {},
   "source": [
    "* **Training the model (parameters are yet to be tuned)**"
   ]
  },
  {
   "cell_type": "code",
   "execution_count": 28,
   "metadata": {},
   "outputs": [
    {
     "data": {
      "text/plain": [
       "LGBMRegressor(boosting_type='gbdt', class_weight=None, colsample_bytree=1.0,\n",
       "              importance_type='split', learning_rate=0.1, max_depth=-1,\n",
       "              min_child_samples=20, min_child_weight=0.001, min_split_gain=0.0,\n",
       "              n_estimators=100, n_jobs=-1, num_leaves=31, objective=None,\n",
       "              random_state=None, reg_alpha=0.0, reg_lambda=0.0, silent=True,\n",
       "              subsample=1.0, subsample_for_bin=200000, subsample_freq=0)"
      ]
     },
     "execution_count": 28,
     "metadata": {},
     "output_type": "execute_result"
    }
   ],
   "source": [
    "lgbm_model = LGBMRegressor(boosting_type='gbdt', num_leaves=31, max_depth=- 1, learning_rate=0.1, \\\n",
    "                             n_estimators=100, subsample_for_bin=200000, objective=None, class_weight=None, \\\n",
    "                             min_split_gain=0.0, min_child_weight=0.001, min_child_samples=20, subsample=1.0, \\\n",
    "                             subsample_freq=0, colsample_bytree=1.0, reg_alpha=0.0, reg_lambda=0.0, \\\n",
    "                             random_state=None, n_jobs=- 1, silent=True, importance_type='split')\n",
    "lgbm_model.fit(training_data[features], training_data['logerror'])\n",
    "# training_set = Dataset(data=training_data[features], label=training_data['logerror'], categorical_feature=features_cat)\n",
    "# test_set = Dataset(data=test_data[features], label=test_data['logerror'], categorical_feature=features_cat)\n",
    "# trained = train({}, train_set=training_set, valid_sets=test_set)"
   ]
  },
  {
   "cell_type": "markdown",
   "metadata": {},
   "source": [
    "* **Testing the model**"
   ]
  },
  {
   "cell_type": "code",
   "execution_count": 33,
   "metadata": {},
   "outputs": [],
   "source": [
    "prediction = lgbm_model.predict(test_data[features])"
   ]
  },
  {
   "cell_type": "code",
   "execution_count": 34,
   "metadata": {},
   "outputs": [
    {
     "data": {
      "text/plain": [
       "0.07153428394436478"
      ]
     },
     "execution_count": 34,
     "metadata": {},
     "output_type": "execute_result"
    }
   ],
   "source": [
    "metrics.mean_absolute_error(test_data['logerror'], prediction)"
   ]
  },
  {
   "cell_type": "markdown",
   "metadata": {},
   "source": [
    "* **Generating prediction for submission**"
   ]
  },
  {
   "cell_type": "code",
   "execution_count": 29,
   "metadata": {},
   "outputs": [
    {
     "data": {
      "text/html": [
       "<div>\n",
       "<style scoped>\n",
       "    .dataframe tbody tr th:only-of-type {\n",
       "        vertical-align: middle;\n",
       "    }\n",
       "\n",
       "    .dataframe tbody tr th {\n",
       "        vertical-align: top;\n",
       "    }\n",
       "\n",
       "    .dataframe thead th {\n",
       "        text-align: right;\n",
       "    }\n",
       "</style>\n",
       "<table border=\"1\" class=\"dataframe\">\n",
       "  <thead>\n",
       "    <tr style=\"text-align: right;\">\n",
       "      <th></th>\n",
       "      <th>parcelid</th>\n",
       "      <th>201610</th>\n",
       "      <th>201611</th>\n",
       "      <th>201612</th>\n",
       "      <th>201710</th>\n",
       "      <th>201711</th>\n",
       "      <th>201712</th>\n",
       "    </tr>\n",
       "  </thead>\n",
       "  <tbody>\n",
       "    <tr>\n",
       "      <td>0</td>\n",
       "      <td>10754147</td>\n",
       "      <td>0</td>\n",
       "      <td>0</td>\n",
       "      <td>0</td>\n",
       "      <td>0</td>\n",
       "      <td>0</td>\n",
       "      <td>0</td>\n",
       "    </tr>\n",
       "    <tr>\n",
       "      <td>1</td>\n",
       "      <td>10759547</td>\n",
       "      <td>0</td>\n",
       "      <td>0</td>\n",
       "      <td>0</td>\n",
       "      <td>0</td>\n",
       "      <td>0</td>\n",
       "      <td>0</td>\n",
       "    </tr>\n",
       "    <tr>\n",
       "      <td>2</td>\n",
       "      <td>10843547</td>\n",
       "      <td>0</td>\n",
       "      <td>0</td>\n",
       "      <td>0</td>\n",
       "      <td>0</td>\n",
       "      <td>0</td>\n",
       "      <td>0</td>\n",
       "    </tr>\n",
       "    <tr>\n",
       "      <td>3</td>\n",
       "      <td>10859147</td>\n",
       "      <td>0</td>\n",
       "      <td>0</td>\n",
       "      <td>0</td>\n",
       "      <td>0</td>\n",
       "      <td>0</td>\n",
       "      <td>0</td>\n",
       "    </tr>\n",
       "    <tr>\n",
       "      <td>4</td>\n",
       "      <td>10879947</td>\n",
       "      <td>0</td>\n",
       "      <td>0</td>\n",
       "      <td>0</td>\n",
       "      <td>0</td>\n",
       "      <td>0</td>\n",
       "      <td>0</td>\n",
       "    </tr>\n",
       "    <tr>\n",
       "      <td>...</td>\n",
       "      <td>...</td>\n",
       "      <td>...</td>\n",
       "      <td>...</td>\n",
       "      <td>...</td>\n",
       "      <td>...</td>\n",
       "      <td>...</td>\n",
       "      <td>...</td>\n",
       "    </tr>\n",
       "    <tr>\n",
       "      <td>2985212</td>\n",
       "      <td>168176230</td>\n",
       "      <td>0</td>\n",
       "      <td>0</td>\n",
       "      <td>0</td>\n",
       "      <td>0</td>\n",
       "      <td>0</td>\n",
       "      <td>0</td>\n",
       "    </tr>\n",
       "    <tr>\n",
       "      <td>2985213</td>\n",
       "      <td>14273630</td>\n",
       "      <td>0</td>\n",
       "      <td>0</td>\n",
       "      <td>0</td>\n",
       "      <td>0</td>\n",
       "      <td>0</td>\n",
       "      <td>0</td>\n",
       "    </tr>\n",
       "    <tr>\n",
       "      <td>2985214</td>\n",
       "      <td>168040630</td>\n",
       "      <td>0</td>\n",
       "      <td>0</td>\n",
       "      <td>0</td>\n",
       "      <td>0</td>\n",
       "      <td>0</td>\n",
       "      <td>0</td>\n",
       "    </tr>\n",
       "    <tr>\n",
       "      <td>2985215</td>\n",
       "      <td>168040830</td>\n",
       "      <td>0</td>\n",
       "      <td>0</td>\n",
       "      <td>0</td>\n",
       "      <td>0</td>\n",
       "      <td>0</td>\n",
       "      <td>0</td>\n",
       "    </tr>\n",
       "    <tr>\n",
       "      <td>2985216</td>\n",
       "      <td>168040430</td>\n",
       "      <td>0</td>\n",
       "      <td>0</td>\n",
       "      <td>0</td>\n",
       "      <td>0</td>\n",
       "      <td>0</td>\n",
       "      <td>0</td>\n",
       "    </tr>\n",
       "  </tbody>\n",
       "</table>\n",
       "<p>2985217 rows × 7 columns</p>\n",
       "</div>"
      ],
      "text/plain": [
       "          parcelid  201610  201611  201612  201710  201711  201712\n",
       "0         10754147       0       0       0       0       0       0\n",
       "1         10759547       0       0       0       0       0       0\n",
       "2         10843547       0       0       0       0       0       0\n",
       "3         10859147       0       0       0       0       0       0\n",
       "4         10879947       0       0       0       0       0       0\n",
       "...            ...     ...     ...     ...     ...     ...     ...\n",
       "2985212  168176230       0       0       0       0       0       0\n",
       "2985213   14273630       0       0       0       0       0       0\n",
       "2985214  168040630       0       0       0       0       0       0\n",
       "2985215  168040830       0       0       0       0       0       0\n",
       "2985216  168040430       0       0       0       0       0       0\n",
       "\n",
       "[2985217 rows x 7 columns]"
      ]
     },
     "execution_count": 29,
     "metadata": {},
     "output_type": "execute_result"
    }
   ],
   "source": [
    "sample_submission = sample_submission.rename(columns={'ParcelId': 'parcelid'})\n",
    "sample_submission"
   ]
  },
  {
   "cell_type": "markdown",
   "metadata": {},
   "source": [
    "* **Generate test data with parcelid specified in sample_submission.csv (encode label, set data type, select features)**"
   ]
  },
  {
   "cell_type": "code",
   "execution_count": 30,
   "metadata": {},
   "outputs": [],
   "source": [
    "data_sub = pd.DataFrame(sample_submission['parcelid']).merge(properties_2017, on='parcelid', how='left')\n",
    "data_sub.loc[~data_sub['propertycountylandusecode'].isin(le_pluc.classes_), 'propertycountylandusecode'] = np.nan\n",
    "data_sub.loc[~data_sub['propertyzoningdesc'].isin(le_pzd.classes_), 'propertyzoningdesc'] = np.nan\n",
    "data_sub.loc[data_sub['propertycountylandusecode'].notna(), 'propertycountylandusecode'] = le_pluc.transform(data_sub.loc[data_sub['propertycountylandusecode'].notna(), 'propertycountylandusecode'])\n",
    "data_sub.loc[data_sub['propertyzoningdesc'].notna(), 'propertyzoningdesc'] = le_pzd.transform(data_sub.loc[data_sub['propertyzoningdesc'].notna(), 'propertyzoningdesc'])\n",
    "data_sub.loc[:, ['propertycountylandusecode', 'propertyzoningdesc']] = data_sub.loc[:, ['propertycountylandusecode', 'propertyzoningdesc']].astype('str').astype('float')"
   ]
  },
  {
   "cell_type": "code",
   "execution_count": 40,
   "metadata": {},
   "outputs": [
    {
     "data": {
      "text/plain": [
       "(2985217, 22)"
      ]
     },
     "execution_count": 40,
     "metadata": {},
     "output_type": "execute_result"
    }
   ],
   "source": [
    "data_201610.shape"
   ]
  },
  {
   "cell_type": "code",
   "execution_count": 39,
   "metadata": {},
   "outputs": [],
   "source": [
    "data_201610 = data_sub.copy()\n",
    "data_201610['transactionyear'] = 2016\n",
    "data_201610['transactionmonth'] = 10\n",
    "data_201610 = data_201610[features]\n",
    "for feature in features_cat:\n",
    "    data_201610.loc[:,feature] = data_201610[feature].astype('category')\n",
    "\n",
    "# data_201611 = data_sub.copy()\n",
    "# data_201611['transactionyear'] = 2016\n",
    "# data_201611['transactionmonth'] = 11\n",
    "# data_201611 = data_201611[features]\n",
    "# for feature in features_cat:\n",
    "#     data_201611.loc[:,feature] = data_201611[feature].astype('category')\n",
    "\n",
    "# data_201612 = data_sub.copy()\n",
    "# data_201612['transactionyear'] = 2016\n",
    "# data_201612['transactionmonth'] = 12\n",
    "# data_201612 = data_201612[features]\n",
    "# for feature in features_cat:\n",
    "#     data_201612.loc[:,feature] = data_201612[feature].astype('category')\n",
    "\n",
    "# data_201710 = data_sub.copy()\n",
    "# data_201710['transactionyear'] = 2017\n",
    "# data_201710['transactionmonth'] = 10\n",
    "# data_201710 = data_201710[features]\n",
    "# for feature in features_cat:\n",
    "#     data_201710.loc[:,feature] = data_201710[feature].astype('category')\n",
    "\n",
    "# data_201711 = data_sub.copy()\n",
    "# data_201711['transactionyear'] = 2017\n",
    "# data_201711['transactionmonth'] = 11\n",
    "# data_201711 = data_201711[features]\n",
    "# for feature in features_cat:\n",
    "#     data_201711.loc[:,feature] = data_201711[feature].astype('category')\n",
    "\n",
    "# data_201712 = data_sub.copy()\n",
    "# data_201712['transactionyear'] = 2017\n",
    "# data_201712['transactionmonth'] = 12\n",
    "# data_201712 = data_201712[features]\n",
    "# for feature in features_cat:\n",
    "#     data_201712.loc[:,feature] = data_201712[feature].astype('category')"
   ]
  },
  {
   "cell_type": "code",
   "execution_count": 42,
   "metadata": {},
   "outputs": [
    {
     "data": {
      "text/plain": [
       "Index(['fips', 'garagecarcnt', 'regionidneighborhood', 'censustractandblock',\n",
       "       'taxdelinquencyyear', 'heatingorsystemtypeid', 'propertylandusetypeid',\n",
       "       'finishedsquarefeet12', 'fullbathcnt', 'yearbuilt', 'garagetotalsqft',\n",
       "       'bedroomcnt', 'bathroomcnt', 'propertycountylandusecode',\n",
       "       'regionidcounty', 'transactionmonth', 'calculatedfinishedsquarefeet',\n",
       "       'transactionyear', 'buildingclasstypeid', 'propertyzoningdesc',\n",
       "       'calculatedbathnbr', 'regionidzip'],\n",
       "      dtype='object')"
      ]
     },
     "execution_count": 42,
     "metadata": {},
     "output_type": "execute_result"
    }
   ],
   "source": [
    "data_201712.columns"
   ]
  },
  {
   "cell_type": "markdown",
   "metadata": {},
   "source": [
    "* **Generate prediction and write to file.**"
   ]
  },
  {
   "cell_type": "code",
   "execution_count": 32,
   "metadata": {},
   "outputs": [],
   "source": [
    "lgbm_model_2 = LGBMRegressor()\n",
    "lgbm_model_2.fit(processed_data[features], processed_data['logerror'])\n",
    "sample_submission['201610'] = lgbm_model_2.predict(data_201610)\n",
    "sample_submission['201611'] = lgbm_model_2.predict(data_201611)\n",
    "sample_submission['201612'] = lgbm_model_2.predict(data_201612)\n",
    "sample_submission['201710'] = lgbm_model_2.predict(data_201710)\n",
    "sample_submission['201711'] = lgbm_model_2.predict(data_201711)\n",
    "sample_submission['201712'] = lgbm_model_2.predict(data_201712)"
   ]
  },
  {
   "cell_type": "code",
   "execution_count": 33,
   "metadata": {},
   "outputs": [
    {
     "data": {
      "text/html": [
       "<div>\n",
       "<style scoped>\n",
       "    .dataframe tbody tr th:only-of-type {\n",
       "        vertical-align: middle;\n",
       "    }\n",
       "\n",
       "    .dataframe tbody tr th {\n",
       "        vertical-align: top;\n",
       "    }\n",
       "\n",
       "    .dataframe thead th {\n",
       "        text-align: right;\n",
       "    }\n",
       "</style>\n",
       "<table border=\"1\" class=\"dataframe\">\n",
       "  <thead>\n",
       "    <tr style=\"text-align: right;\">\n",
       "      <th></th>\n",
       "      <th>parcelid</th>\n",
       "      <th>201610</th>\n",
       "      <th>201611</th>\n",
       "      <th>201612</th>\n",
       "      <th>201710</th>\n",
       "      <th>201711</th>\n",
       "      <th>201712</th>\n",
       "    </tr>\n",
       "  </thead>\n",
       "  <tbody>\n",
       "    <tr>\n",
       "      <td>0</td>\n",
       "      <td>10754147</td>\n",
       "      <td>-0.014497</td>\n",
       "      <td>-0.013062</td>\n",
       "      <td>-0.013900</td>\n",
       "      <td>-0.012003</td>\n",
       "      <td>-0.010568</td>\n",
       "      <td>-0.011406</td>\n",
       "    </tr>\n",
       "    <tr>\n",
       "      <td>1</td>\n",
       "      <td>10759547</td>\n",
       "      <td>0.685942</td>\n",
       "      <td>0.631506</td>\n",
       "      <td>0.692798</td>\n",
       "      <td>0.687986</td>\n",
       "      <td>0.633550</td>\n",
       "      <td>0.694842</td>\n",
       "    </tr>\n",
       "    <tr>\n",
       "      <td>2</td>\n",
       "      <td>10843547</td>\n",
       "      <td>0.258394</td>\n",
       "      <td>0.158115</td>\n",
       "      <td>0.238358</td>\n",
       "      <td>0.227654</td>\n",
       "      <td>0.127375</td>\n",
       "      <td>0.208213</td>\n",
       "    </tr>\n",
       "    <tr>\n",
       "      <td>3</td>\n",
       "      <td>10859147</td>\n",
       "      <td>0.098358</td>\n",
       "      <td>0.054350</td>\n",
       "      <td>0.097704</td>\n",
       "      <td>0.096205</td>\n",
       "      <td>0.052198</td>\n",
       "      <td>0.096148</td>\n",
       "    </tr>\n",
       "    <tr>\n",
       "      <td>4</td>\n",
       "      <td>10879947</td>\n",
       "      <td>-0.057821</td>\n",
       "      <td>-0.060834</td>\n",
       "      <td>-0.062593</td>\n",
       "      <td>-0.068021</td>\n",
       "      <td>-0.071034</td>\n",
       "      <td>-0.072793</td>\n",
       "    </tr>\n",
       "    <tr>\n",
       "      <td>...</td>\n",
       "      <td>...</td>\n",
       "      <td>...</td>\n",
       "      <td>...</td>\n",
       "      <td>...</td>\n",
       "      <td>...</td>\n",
       "      <td>...</td>\n",
       "      <td>...</td>\n",
       "    </tr>\n",
       "    <tr>\n",
       "      <td>2985212</td>\n",
       "      <td>168176230</td>\n",
       "      <td>0.003736</td>\n",
       "      <td>0.000077</td>\n",
       "      <td>0.003679</td>\n",
       "      <td>0.007726</td>\n",
       "      <td>0.004067</td>\n",
       "      <td>0.007668</td>\n",
       "    </tr>\n",
       "    <tr>\n",
       "      <td>2985213</td>\n",
       "      <td>14273630</td>\n",
       "      <td>0.009768</td>\n",
       "      <td>0.000841</td>\n",
       "      <td>0.015440</td>\n",
       "      <td>0.013758</td>\n",
       "      <td>0.004831</td>\n",
       "      <td>0.019430</td>\n",
       "    </tr>\n",
       "    <tr>\n",
       "      <td>2985214</td>\n",
       "      <td>168040630</td>\n",
       "      <td>-0.005026</td>\n",
       "      <td>-0.008316</td>\n",
       "      <td>-0.005084</td>\n",
       "      <td>-0.001037</td>\n",
       "      <td>-0.004326</td>\n",
       "      <td>-0.001094</td>\n",
       "    </tr>\n",
       "    <tr>\n",
       "      <td>2985215</td>\n",
       "      <td>168040830</td>\n",
       "      <td>-0.016286</td>\n",
       "      <td>-0.019575</td>\n",
       "      <td>-0.016343</td>\n",
       "      <td>-0.012296</td>\n",
       "      <td>-0.015586</td>\n",
       "      <td>-0.012353</td>\n",
       "    </tr>\n",
       "    <tr>\n",
       "      <td>2985216</td>\n",
       "      <td>168040430</td>\n",
       "      <td>-0.005026</td>\n",
       "      <td>-0.008316</td>\n",
       "      <td>-0.005084</td>\n",
       "      <td>-0.001037</td>\n",
       "      <td>-0.004326</td>\n",
       "      <td>-0.001094</td>\n",
       "    </tr>\n",
       "  </tbody>\n",
       "</table>\n",
       "<p>2985217 rows × 7 columns</p>\n",
       "</div>"
      ],
      "text/plain": [
       "          parcelid    201610    201611    201612    201710    201711    201712\n",
       "0         10754147 -0.014497 -0.013062 -0.013900 -0.012003 -0.010568 -0.011406\n",
       "1         10759547  0.685942  0.631506  0.692798  0.687986  0.633550  0.694842\n",
       "2         10843547  0.258394  0.158115  0.238358  0.227654  0.127375  0.208213\n",
       "3         10859147  0.098358  0.054350  0.097704  0.096205  0.052198  0.096148\n",
       "4         10879947 -0.057821 -0.060834 -0.062593 -0.068021 -0.071034 -0.072793\n",
       "...            ...       ...       ...       ...       ...       ...       ...\n",
       "2985212  168176230  0.003736  0.000077  0.003679  0.007726  0.004067  0.007668\n",
       "2985213   14273630  0.009768  0.000841  0.015440  0.013758  0.004831  0.019430\n",
       "2985214  168040630 -0.005026 -0.008316 -0.005084 -0.001037 -0.004326 -0.001094\n",
       "2985215  168040830 -0.016286 -0.019575 -0.016343 -0.012296 -0.015586 -0.012353\n",
       "2985216  168040430 -0.005026 -0.008316 -0.005084 -0.001037 -0.004326 -0.001094\n",
       "\n",
       "[2985217 rows x 7 columns]"
      ]
     },
     "execution_count": 33,
     "metadata": {},
     "output_type": "execute_result"
    }
   ],
   "source": [
    "sample_submission"
   ]
  },
  {
   "cell_type": "code",
   "execution_count": 40,
   "metadata": {},
   "outputs": [],
   "source": [
    "# sample_submission.to_csv(data_dir + 'sample_submission_output.csv')"
   ]
  },
  {
   "cell_type": "markdown",
   "metadata": {},
   "source": [
    "#### Parameter Tuning\n"
   ]
  },
  {
   "cell_type": "code",
   "execution_count": 41,
   "metadata": {
    "scrolled": true
   },
   "outputs": [
    {
     "ename": "ModuleNotFoundError",
     "evalue": "No module named 'hyperopt'",
     "output_type": "error",
     "traceback": [
      "\u001b[1;31m---------------------------------------------------------------------------\u001b[0m",
      "\u001b[1;31mModuleNotFoundError\u001b[0m                       Traceback (most recent call last)",
      "\u001b[1;32m<ipython-input-41-168b7a44316e>\u001b[0m in \u001b[0;36m<module>\u001b[1;34m\u001b[0m\n\u001b[1;32m----> 1\u001b[1;33m \u001b[1;32mfrom\u001b[0m \u001b[0mhyperopt\u001b[0m \u001b[1;32mimport\u001b[0m \u001b[0mhp\u001b[0m\u001b[1;33m,\u001b[0m \u001b[0mtpe\u001b[0m\u001b[1;33m,\u001b[0m \u001b[0mfmin\u001b[0m\u001b[1;33m,\u001b[0m \u001b[0mTrials\u001b[0m\u001b[1;33m\u001b[0m\u001b[1;33m\u001b[0m\u001b[0m\n\u001b[0m\u001b[0;32m      2\u001b[0m \u001b[1;32mfrom\u001b[0m \u001b[0msklearn\u001b[0m\u001b[1;33m.\u001b[0m\u001b[0mmodel_selection\u001b[0m \u001b[1;32mimport\u001b[0m \u001b[0mKFold\u001b[0m\u001b[1;33m\u001b[0m\u001b[1;33m\u001b[0m\u001b[0m\n\u001b[0;32m      3\u001b[0m \u001b[0mno_fold\u001b[0m \u001b[1;33m=\u001b[0m \u001b[1;36m4\u001b[0m\u001b[1;33m\u001b[0m\u001b[1;33m\u001b[0m\u001b[0m\n\u001b[0;32m      4\u001b[0m \u001b[1;33m\u001b[0m\u001b[0m\n\u001b[0;32m      5\u001b[0m \u001b[1;31m# def objective_fun(boosting_type, num_leaves, max_depth, learning_rate, n_estimators, \\\u001b[0m\u001b[1;33m\u001b[0m\u001b[1;33m\u001b[0m\u001b[1;33m\u001b[0m\u001b[0m\n",
      "\u001b[1;31mModuleNotFoundError\u001b[0m: No module named 'hyperopt'"
     ]
    }
   ],
   "source": [
    "from hyperopt import hp, tpe, fmin, Trials\n",
    "from sklearn.model_selection import KFold\n",
    "no_fold = 4\n",
    "\n",
    "# def objective_fun(boosting_type, num_leaves, max_depth, learning_rate, n_estimators, \\\n",
    "#                   min_split_gain, min_child_weight, min_child_samples, subsample, subsample_freq, \\\n",
    "#                   subsample_freq, colsample_bytree, reg_alpha, reg_lambda, random_state):\n",
    "#     model = LGBMRegressor(boosting_type, num_leaves, max_depth, learning_rate, n_estimators, \\\n",
    "#                   min_split_gain, min_child_weight, min_child_samples, \\\n",
    "#                   subsample_freq, colsample_bytree, reg_alpha, reg_lambda, random_state)\n",
    "def objective_fun(args):\n",
    "#     boosting_type, num_leaves, max_depth, learning_rate, n_estimators, min_split_gain, min_child_weight, \\\n",
    "#     min_child_samples, subsample, subsample_freq, colsample_bytree, reg_alpha, reg_lambda, random_state = args\n",
    "#     model = LGBMRegressor(boosting_type=boosting_type, num_leaves=num_leaves, max_depth=max_depth, \\\n",
    "#                           learning_rate=learning_rate, n_estimators=n_estimators, \\\n",
    "#                           min_split_gain=min_split_gain, min_child_weight=min_child_weight, \\\n",
    "#                           min_child_samples=min_child_samples, subsample_freq, \\\n",
    "#                           subsample_freq=subsample_freq, colsample_bytree=colsample_bytree, \\\n",
    "#                           reg_alpha=reg_alpha, reg_lambda=reg_lambda, random_state=random_state)\n",
    "    model = LGBMRegressor(num_leaves=int(args['num_leaves']), \\\n",
    "                          max_depth=int(args['max_depth']), learning_rate=args['learning_rate'], \\\n",
    "                          n_estimators=int(args['n_estimators']), min_split_gain=args['min_split_gain'], \\\n",
    "                          min_child_weight=args['min_child_weight'], min_child_samples=int(args['min_child_samples']), \\\n",
    "                          subsample=args['subsample'], subsample_freq=int(args['subsample_freq']), \\\n",
    "                          colsample_bytree=args['colsample_bytree'], reg_alpha=args['reg_alpha'], \\\n",
    "                          reg_lambda=args['reg_lambda'], random_state=args['random_state'])\n",
    "    kf = KFold(n_splits=no_fold)\n",
    "    loss = 0\n",
    "    for index_tr, index_val in kf.split(training_data[features], training_data['logerror']):\n",
    "        data_tr = training_data.iloc[index_tr]\n",
    "        data_val = training_data.iloc[index_val]\n",
    "        model.fit(data_tr[features], data_tr['logerror'])\n",
    "        prediction = model.predict(data_val[features])\n",
    "        loss += metrics.mean_absolute_error(data_val['logerror'], prediction) / no_fold\n",
    "    return {\n",
    "        'status' : 'ok',\n",
    "        'loss' : loss\n",
    "    }\n",
    "\n",
    "hp_space = {\n",
    "#    'boosting_type' : hp.choice('boosting_type', ['gbdt', 'dart', 'goss', 'rf']),\n",
    "    'num_leaves' : hp.quniform('num_leaves', 10, 500, 1),\n",
    "    'max_depth' : hp.quniform('max_depth', 10, 500, 1),\n",
    "    'learning_rate' : hp.uniform('learning_rate', 0.0001, 0.1),\n",
    "    'n_estimators' : hp.quniform('n_estimators', 10, 1000, 1),\n",
    "    'min_split_gain' : hp.uniform('min_split_gain', 0, 1),\n",
    "    'min_child_weight' : hp.uniform('min_child_weight', 0.0001, 1),\n",
    "    'min_child_samples' : hp.quniform('min_child_samples', 10, 500, 1),\n",
    "    'subsample' : hp.uniform('subsample', 0, 1),\n",
    "    'subsample_freq' : hp.quniform('subsample_freq', 0, 5000, 1),\n",
    "    'colsample_bytree' : hp.uniform('colsample_bytree', 0, 1),\n",
    "    'reg_alpha' : hp.uniform('reg_alpha', 0, 5),\n",
    "    'reg_lambda' : hp.uniform('reg_lambda', 0, 5),\n",
    "    'random_state' :  None\n",
    "}\n",
    "\n",
    "trials = Trials()\n",
    "\n",
    "best = fmin(fn=objective_fun, space=hp_space, algo=tpe.suggest, max_evals=1000, trials=trials)\n",
    "\n",
    "import pickle\n",
    "with open('trials', 'wb') as file:\n",
    "    pickle.dump(best, file)\n",
    "    pickle.dump(trials, file)"
   ]
  },
  {
   "cell_type": "code",
   "execution_count": 43,
   "metadata": {},
   "outputs": [],
   "source": [
    "best ={'colsample_bytree': 0.2147467656099759,\n",
    " 'learning_rate': 0.007138343861070687,\n",
    " 'max_depth': 442.0,\n",
    " 'min_child_samples': 23.0,\n",
    " 'min_child_weight': 0.8464143518606242,\n",
    " 'min_split_gain': 0.000172647682586337,\n",
    " 'n_estimators': 149.0,\n",
    " 'num_leaves': 188.0,\n",
    " 'reg_alpha': 2.6763347204500403,\n",
    " 'reg_lambda': 2.5674135399163243,\n",
    " 'subsample': 0.9996855816069476,\n",
    " 'subsample_freq': 2629.0}"
   ]
  },
  {
   "cell_type": "code",
   "execution_count": null,
   "metadata": {},
   "outputs": [],
   "source": [
    "best"
   ]
  },
  {
   "cell_type": "code",
   "execution_count": 44,
   "metadata": {},
   "outputs": [],
   "source": [
    "tuned_model = LGBMRegressor(colsample_bytree=best['colsample_bytree'], learning_rate=best['learning_rate'], \\\n",
    "                            max_depth=int(best['max_depth']), min_child_samples=int(best['min_child_samples']), \\\n",
    "                            min_child_weight=best['min_child_weight'], min_split_gain=best['min_split_gain'], \\\n",
    "                            n_estimators=int(best['n_estimators']), num_leaves=int(best['num_leaves']), \\\n",
    "                            reg_alpha=best['reg_alpha'], reg_lambda=best['reg_lambda'], \\\n",
    "                            subsample=best['subsample'], subsample_freq=int(best['subsample_freq']))"
   ]
  },
  {
   "cell_type": "code",
   "execution_count": 45,
   "metadata": {},
   "outputs": [
    {
     "data": {
      "text/plain": [
       "0.06880767103493073"
      ]
     },
     "execution_count": 45,
     "metadata": {},
     "output_type": "execute_result"
    }
   ],
   "source": [
    "tuned_model.fit(training_data[features], training_data['logerror'])\n",
    "prediction = tuned_model.predict(test_data[features])\n",
    "metrics.mean_absolute_error(test_data['logerror'], prediction)"
   ]
  },
  {
   "cell_type": "markdown",
   "metadata": {},
   "source": [
    "* **Generate prediction using tuned model and write to file.**"
   ]
  },
  {
   "cell_type": "code",
   "execution_count": 46,
   "metadata": {},
   "outputs": [],
   "source": [
    "tuned_model.fit(processed_data[features], processed_data['logerror'])\n",
    "sample_submission['201610'] = tuned_model.predict(data_201610)\n",
    "sample_submission['201611'] = tuned_model.predict(data_201611)\n",
    "sample_submission['201612'] = tuned_model.predict(data_201612)\n",
    "sample_submission['201710'] = tuned_model.predict(data_201710)\n",
    "sample_submission['201711'] = tuned_model.predict(data_201711)\n",
    "sample_submission['201712'] = tuned_model.predict(data_201712)\n",
    "sample_submission = sample_submission.rename(columns={'parcelid': 'ParcelId'})"
   ]
  },
  {
   "cell_type": "code",
   "execution_count": 47,
   "metadata": {},
   "outputs": [],
   "source": [
    "sample_submission.to_csv(data_dir + 'sample_submission_output.csv', index=False)"
   ]
  },
  {
   "cell_type": "code",
   "execution_count": null,
   "metadata": {},
   "outputs": [],
   "source": []
  }
 ],
 "metadata": {
  "kernelspec": {
   "display_name": "Python 3",
   "language": "python",
   "name": "python3"
  },
  "language_info": {
   "codemirror_mode": {
    "name": "ipython",
    "version": 3
   },
   "file_extension": ".py",
   "mimetype": "text/x-python",
   "name": "python",
   "nbconvert_exporter": "python",
   "pygments_lexer": "ipython3",
   "version": "3.7.4"
  }
 },
 "nbformat": 4,
 "nbformat_minor": 2
}
