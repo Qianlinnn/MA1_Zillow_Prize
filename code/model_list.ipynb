{
 "cells": [
  {
   "cell_type": "code",
   "execution_count": 1,
   "metadata": {},
   "outputs": [],
   "source": [
    "import numpy as np\n",
    "import pandas as pd\n",
    "\n",
    "import xgboost as xgb\n",
    "from xgboost import XGBRegressor\n",
    "\n",
    "from sklearn.ensemble import RandomForestRegressor, ExtraTreesRegressor, AdaBoostRegressor, GradientBoostingRegressor\n",
    "from sklearn.linear_model import LinearRegression, LogisticRegression\n",
    "from sklearn.tree import DecisionTreeRegressor\n",
    "from sklearn.model_selection import GridSearchCV\n",
    "from sklearn.preprocessing import LabelEncoder\n",
    "import gc\n",
    "\n",
    "import warnings\n",
    "warnings.filterwarnings(\"ignore\")"
   ]
  },
  {
   "cell_type": "markdown",
   "metadata": {},
   "source": [
    "## XGBoost Model"
   ]
  },
  {
   "cell_type": "code",
   "execution_count": null,
   "metadata": {},
   "outputs": [],
   "source": [
    "xgb_params = {}\n",
    "xgb_params['n_estimators'] = 250\n",
    "xgb_params['min_child_weight'] = 12\n",
    "xgb_params['learning_rate'] = 0.03\n",
    "xgb_params['max_depth'] = 10\n",
    "xgb_params['subsample'] = 0.8\n",
    "xgb_params['reg_lambda'] = 0.8\n",
    "xgb_params['reg_alpha'] = 0.4\n",
    "xgb_params['base_score'] = 0\n",
    "xgb_params['silent'] = 1\n",
    "\n",
    "param_test = {\n",
    "    'n_estimators': range(30, 50, 2),\n",
    "    'max_depth': range(2, 7, 1)\n",
    "}\n",
    "\n",
    "xgb_model = XGBRegressor(**xgb_params)\n",
    "grid_xgb = GridSearchCV(estimator=xgb_model, param_grid = param_test,scoring='neg_mean_absolute_error', cv=5)\n",
    "grid_xgb.fit(x_train, y_train)\n",
    "grid_xgb.grid_scores_, grid_xgb.best_params_, grid_xgb.best_score_"
   ]
  },
  {
   "cell_type": "markdown",
   "metadata": {},
   "source": [
    "## LightGBM Model"
   ]
  },
  {
   "cell_type": "code",
   "execution_count": null,
   "metadata": {},
   "outputs": [],
   "source": [
    "lgb_params = {}\n",
    "lgb_params['n_estimators'] = 340\n",
    "lgb_params['max_bin'] = 8\n",
    "lgb_params['learning_rate'] = 0.015 \n",
    "lgb_params['metric'] = 'l1'          \n",
    "lgb_params['sub_feature'] = 0.35    \n",
    "lgb_params['bagging_fraction'] = 0.8 \n",
    "lgb_params['bagging_freq'] = 40\n",
    "lgb_params['num_leaves'] = 500        \n",
    "lgb_params['min_data'] = 500         \n",
    "lgb_params['min_hessian'] = 0.05     \n",
    "lgb_params['verbose'] = 0\n",
    "lgb_params['feature_fraction_seed'] = 2\n",
    "lgb_params['bagging_seed'] = 3\n",
    "\n",
    "lgb_model = LGBMRegressor(**lgb_params)"
   ]
  },
  {
   "cell_type": "markdown",
   "metadata": {},
   "source": [
    "## RandomForest Model"
   ]
  },
  {
   "cell_type": "code",
   "execution_count": null,
   "metadata": {},
   "outputs": [],
   "source": [
    "rf_params = {}\n",
    "rf_params['n_jobs'] = -1\n",
    "rf_params['n_estimators'] = 100\n",
    "rf_params['max_depth'] = 8\n",
    "rf_params['min_samples_split'] = 100\n",
    "rf_params['min_samples_leaf'] = 30\n",
    "\n",
    "rf_model = RandomForestRegressor(**rf_params)"
   ]
  },
  {
   "cell_type": "markdown",
   "metadata": {},
   "source": [
    "## ExtraTrees Model"
   ]
  },
  {
   "cell_type": "code",
   "execution_count": 2,
   "metadata": {},
   "outputs": [],
   "source": [
    "et_params = {}\n",
    "et_params['n_jobs'] = -1\n",
    "et_params['max_depth'] = 6\n",
    "et_params['n_estimators'] = 250\n",
    "\n",
    "et_model = ExtraTreesRegressor(**et_params)"
   ]
  },
  {
   "cell_type": "markdown",
   "metadata": {},
   "source": [
    "## AdaBoost Model"
   ]
  },
  {
   "cell_type": "code",
   "execution_count": null,
   "metadata": {},
   "outputs": [],
   "source": [
    "ada_params = {}\n",
    "ada_params['n_estimators'] = 250\n",
    "ada_params['learning_rate'] = 0.025\n",
    "\n",
    "ada_model = AdaBoostRegressor(**ada_params)"
   ]
  }
 ],
 "metadata": {
  "kernelspec": {
   "display_name": "Python 3",
   "language": "python",
   "name": "python3"
  },
  "language_info": {
   "codemirror_mode": {
    "name": "ipython",
    "version": 3
   },
   "file_extension": ".py",
   "mimetype": "text/x-python",
   "name": "python",
   "nbconvert_exporter": "python",
   "pygments_lexer": "ipython3",
   "version": "3.7.3"
  }
 },
 "nbformat": 4,
 "nbformat_minor": 2
}
