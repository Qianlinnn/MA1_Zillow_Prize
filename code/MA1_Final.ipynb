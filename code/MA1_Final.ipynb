{
 "cells": [
  {
   "cell_type": "markdown",
   "metadata": {},
   "source": [
    "read and create train, properties and test datasets, sample_submission is used to create to generate csv file for 5 predictions "
   ]
  },
  {
   "cell_type": "code",
   "execution_count": 1,
   "metadata": {},
   "outputs": [
    {
     "name": "stderr",
     "output_type": "stream",
     "text": [
      "C:\\software_program\\anaconda3\\lib\\site-packages\\IPython\\core\\interactiveshell.py:3058: DtypeWarning: Columns (49) have mixed types. Specify dtype option on import or set low_memory=False.\n",
      "  interactivity=interactivity, compiler=compiler, result=result)\n"
     ]
    }
   ],
   "source": [
    "import pandas as pd\n",
    "import numpy as np\n",
    "data_dir = '../input/'\n",
    "props = pd.read_csv(data_dir + 'properties_2017.csv')\n",
    "train_2016 = pd.read_csv(data_dir + 'train_2016_v2.csv')\n",
    "train_2017 = pd.read_csv(data_dir + 'train_2017.csv')\n",
    "sample_submission = pd.read_csv(data_dir + 'sample_submission.csv')\n",
    "sample_submission = sample_submission.rename(columns={'ParcelId': 'parcelid'})\n",
    "sample_submission2 = sample_submission.copy()\n",
    "sample_submission3 = sample_submission.copy()\n",
    "sample_submission4 = sample_submission.copy()\n",
    "sample_submission5 = sample_submission.copy()\n",
    "\n",
    "\n",
    "test_df = pd.read_csv(\"../input/sample_submission.csv\")\n",
    "test_df = test_df.rename(columns={'ParcelId': 'parcelid'})"
   ]
  },
  {
   "cell_type": "markdown",
   "metadata": {},
   "source": [
    "split transaction date into 3 sub-features, 'transactionyear', 'transactionmonth', 'transactionday'"
   ]
  },
  {
   "cell_type": "code",
   "execution_count": 2,
   "metadata": {},
   "outputs": [],
   "source": [
    "train_2016[['transactionyear', 'transactionmonth', 'transactionday']] = train_2016['transactiondate'].str.split('-', expand=True)\n",
    "train_2017[['transactionyear', 'transactionmonth', 'transactionday']] = train_2017['transactiondate'].str.split('-', expand=True)"
   ]
  },
  {
   "cell_type": "markdown",
   "metadata": {},
   "source": [
    "Combine train2016 with train2017 to make a whole train datasets"
   ]
  },
  {
   "cell_type": "code",
   "execution_count": 3,
   "metadata": {},
   "outputs": [],
   "source": [
    "train = pd.concat([train_2016, train_2017], ignore_index=True)"
   ]
  },
  {
   "cell_type": "markdown",
   "metadata": {},
   "source": [
    "## Data preprocessing part"
   ]
  },
  {
   "cell_type": "markdown",
   "metadata": {},
   "source": []
  },
  {
   "cell_type": "code",
   "execution_count": 4,
   "metadata": {},
   "outputs": [
    {
     "name": "stdout",
     "output_type": "stream",
     "text": [
      "FALSE    2935155\n",
      "True       50062\n",
      "Name: hashottuborspa, dtype: int64\n",
      "1.0    17006\n",
      "Name: pooltypeid10, dtype: int64\n",
      "2957259\n",
      "0.0    2445585\n",
      "1.0     539632\n",
      "Name: poolcnt, dtype: int64\n",
      "2980054\n",
      "2672093\n",
      "2094209\n",
      "2094209\n",
      "2.0     1168610\n",
      "7.0      646021\n",
      "6.0       27481\n",
      "24.0      21107\n",
      "20.0       3630\n",
      "13.0       1342\n",
      "18.0        586\n",
      "1.0         262\n",
      "14.0         41\n",
      "10.0         39\n",
      "12.0         25\n",
      "11.0         16\n",
      "21.0          3\n",
      "19.0          1\n",
      "Name: heatingorsystemtypeid, dtype: int64\n",
      "1.0    313464\n",
      "2.0      2548\n",
      "3.0       268\n",
      "4.0        48\n",
      "5.0        18\n",
      "6.0         9\n",
      "7.0         2\n",
      "Name: threequarterbathnbr, dtype: int64\n",
      "                           field  proportion\n",
      "41                   storytypeid    0.999456\n",
      "3                   basementsqft    0.999455\n",
      "46            yardbuildingsqft26    0.999114\n",
      "2       architecturalstyletypeid    0.997970\n",
      "43        typeconstructiontypeid    0.997740\n",
      "13          finishedsquarefeet13    0.997430\n",
      "6            buildingclasstypeid    0.995735\n",
      "29                  pooltypeid10    0.994303\n",
      "9                     decktypeid    0.994178\n",
      "16           finishedsquarefeet6    0.992804\n",
      "56            taxdelinquencyyear    0.981068\n",
      "45            yardbuildingsqft17    0.972669\n",
      "14          finishedsquarefeet15    0.936291\n",
      "10      finishedfloor1squarefeet    0.931744\n",
      "15          finishedsquarefeet50    0.931744\n",
      "48               numberofstories    0.770309\n",
      "38          regionidneighborhood    0.612510\n",
      "7          buildingqualitytypeid    0.349664\n",
      "44                       unitcnt    0.336383\n",
      "34            propertyzoningdesc    0.335904\n",
      "26             lotsizesquarefeet    0.091352\n",
      "12          finishedsquarefeet12    0.088580\n",
      "19                   fullbathcnt    0.039245\n",
      "8              calculatedbathnbr    0.039245\n",
      "57           censustractandblock    0.025119\n",
      "36                  regionidcity    0.020812\n",
      "53         landtaxvaluedollarcnt    0.020074\n",
      "47                     yearbuilt    0.016023\n",
      "50    structuretaxvaluedollarcnt    0.015565\n",
      "11  calculatedfinishedsquarefeet    0.015107\n",
      "51             taxvaluedollarcnt    0.011479\n",
      "54                     taxamount    0.007622\n",
      "39                   regionidzip    0.004259\n",
      "32     propertycountylandusecode    0.001005\n",
      "40                       roomcnt    0.000995\n",
      "4                    bathroomcnt    0.000991\n",
      "5                     bedroomcnt    0.000987\n",
      "52                assessmentyear    0.000983\n",
      "25                     longitude    0.000982\n",
      "24                      latitude    0.000982\n",
      "35        rawcensustractandblock    0.000982\n",
      "37                regionidcounty    0.000982\n",
      "33         propertylandusetypeid    0.000982\n",
      "17                          fips    0.000982\n",
      "49                 fireplaceflag    0.000000\n",
      "55            taxdelinquencyflag    0.000000\n",
      "21               garagetotalsqft    0.000000\n",
      "18                  fireplacecnt    0.000000\n",
      "20                  garagecarcnt    0.000000\n",
      "42           threequarterbathnbr    0.000000\n",
      "22                hashottuborspa    0.000000\n",
      "23         heatingorsystemtypeid    0.000000\n",
      "31                   pooltypeid7    0.000000\n",
      "30                   pooltypeid2    0.000000\n",
      "1          airconditioningtypeid    0.000000\n",
      "28                   poolsizesum    0.000000\n",
      "27                       poolcnt    0.000000\n",
      "0                       parcelid    0.000000\n"
     ]
    }
   ],
   "source": [
    "# Data preprocessing part\n",
    "\n",
    "#The below variables are flags and lets assume if they are NA's it means the object does not exist so lets fix this\n",
    "index = props.hashottuborspa.isnull()\n",
    "#print(index)\n",
    "props.loc[index,'hashottuborspa'] = \"FALSE\"\n",
    "\n",
    "# pooltypeid10(does home have a Spa or hot tub) seems to be inconcistent with the 'hashottuborspa' field\n",
    "print(props.hashottuborspa.value_counts())\n",
    "print(props.pooltypeid10.value_counts())\n",
    "\n",
    "#lets remove 'pooltypeid10' as has more missing values\n",
    "# dropcols.append('pooltypeid10')\n",
    "\n",
    "#Assume if the pooltype id is null then pool/hottub doesnt exist \n",
    "index = props.pooltypeid2.isnull()\n",
    "props.loc[index,'pooltypeid2'] = 0\n",
    "\n",
    "index = props.pooltypeid7.isnull()\n",
    "props.loc[index,'pooltypeid7'] = 0\n",
    "\n",
    "index = props.poolcnt.isnull()\n",
    "props.loc[index,'poolcnt'] = 0\n",
    "\n",
    "#Theres more missing values in the 'poolsizesum' then in 'poolcnt', \n",
    "#Let's fill in median values for poolsizesum where pool count is >0 and missing. \n",
    "#This is sensible assumption as residential pool sizes are fairly standard size in the U.S.\n",
    "#Also the poolsizesum doesn't seem to be much of an important variable so imputing with the median\n",
    "print(props.poolsizesum.isnull().sum())\n",
    "print(props.poolcnt.value_counts())\n",
    "\n",
    "#Fill in those properties that have a pool with median pool value\n",
    "poolsizesum_median = props.loc[props['poolcnt'] > 0, 'poolsizesum'].median()\n",
    "props.loc[(props['poolcnt'] > 0) & (props['poolsizesum'].isnull()), 'poolsizesum'] = poolsizesum_median\n",
    "\n",
    "#If it doesn't have a pool then poolsizesum is 0 by default\n",
    "props.loc[(props['poolcnt'] == 0), 'poolsizesum'] = 0\n",
    "\n",
    "#There should be a one-to-one correspondence between these two items\n",
    "print(props.fireplaceflag.isnull().sum())\n",
    "print(props.fireplacecnt.isnull().sum())\n",
    "\n",
    "\n",
    "#There seems to be 80668 properties without fireplace according to the 'fireplacecnt' but the 'fireplace flag' says they are 90053 missing values\n",
    "#Lets instead create the fireplaceflag from scratch using 'fireplacecnt' as there are less missing values here\n",
    "props['fireplaceflag']= \"FALSE\"\n",
    "props.loc[props['fireplacecnt']>0,'fireplaceflag']= \"TRUE\"\n",
    "\n",
    "index = props.fireplacecnt.isnull()\n",
    "props.loc[index,'fireplacecnt'] = 0\n",
    "\n",
    "#Tax deliquency flag - assume if it is null then doesn't exist\n",
    "index = props.taxdelinquencyflag.isnull()\n",
    "props.loc[index,'taxdelinquencyflag'] = \"N\"\n",
    "\n",
    "#Same number of missing values between garage count and garage size - assume this is because when there are properties with no garages then both variables are NA\n",
    "print(props.garagecarcnt.isnull().sum())\n",
    "print(props.garagetotalsqft.isnull().sum())\n",
    "\n",
    "#Assume if Null in garage count it means there are no garages\n",
    "index = props.garagecarcnt.isnull()\n",
    "props.loc[index,'garagecarcnt'] = 0\n",
    "\n",
    "#Likewise no garage means the size is 0 by default\n",
    "index = props.garagetotalsqft.isnull()\n",
    "props.loc[index,'garagetotalsqft'] = 0\n",
    "\n",
    "#Let's fill in some missing values using the most common value for those variables where this might be a sensible approach\n",
    "#AC Type - Mostly 1's, which corresponds to central AC. Reasonable to assume most other properties are similar.\n",
    "props['airconditioningtypeid'].value_counts()\n",
    "index = props.airconditioningtypeid.isnull()\n",
    "props.loc[index,'airconditioningtypeid'] = 1\n",
    "\n",
    "\n",
    "#heating or system - Mostly 2, which corresponds to central heating \n",
    "#so seems reasonable to assume most other properties have central heating  \n",
    "print(props['heatingorsystemtypeid'].value_counts())\n",
    "index = props.heatingorsystemtypeid.isnull()\n",
    "props.loc[index,'heatingorsystemtypeid'] = 2\n",
    "\n",
    "\n",
    "print(props['threequarterbathnbr'].value_counts())\n",
    "index = props.threequarterbathnbr.isnull()\n",
    "props.loc[index,'threequarterbathnbr'] = 1\n",
    "\n",
    "\n",
    "missingvalues_prop = (props.isnull().sum()/len(props)).reset_index()\n",
    "missingvalues_prop.columns = ['field','proportion']\n",
    "missingvalues_prop = missingvalues_prop.sort_values(by = 'proportion', ascending = False)\n",
    "print(missingvalues_prop)\n",
    "missingvaluescols = missingvalues_prop[missingvalues_prop['proportion'] > 0.90].field.tolist()\n",
    "#dropcols_2 = dropcols + missingvaluescols\n",
    "#props = props.drop(dropcols_2, axis=1)\n",
    "props = props.drop(missingvaluescols, axis=1)"
   ]
  },
  {
   "cell_type": "markdown",
   "metadata": {},
   "source": [
    "## Feature selection Part"
   ]
  },
  {
   "cell_type": "markdown",
   "metadata": {},
   "source": []
  },
  {
   "cell_type": "code",
   "execution_count": 8,
   "metadata": {},
   "outputs": [
    {
     "data": {
      "image/png": "[encoded data removed]",
      "text/plain": [
       "<Figure size 864x864 with 2 Axes>"
      ]
     },
     "metadata": {
      "needs_background": "light"
     },
     "output_type": "display_data"
    }
   ],
   "source": [
    "import matplotlib.pyplot as plt\n",
    "from sklearn.preprocessing import LabelEncoder\n",
    "import seaborn as sns\n",
    "\n",
    "count = props.isnull().sum()\n",
    "ratio = count / len(props)\n",
    "null_data = pd.concat([count,ratio],axis=1,keys=['count','ratio'])\n",
    "null_data\n",
    "\n",
    "\n",
    "index = []\n",
    "for i, v in enumerate(ratio):\n",
    "    if v > 0.5:\n",
    "        index.append(i)\n",
    "        \n",
    "props.drop(props.columns[index], axis = 1, inplace=True)        \n",
    "\n",
    "correlation = props.corr()\n",
    "plt.subplots(figsize=(12, 12))\n",
    "sns.heatmap(correlation, square=True)\n",
    "plt.show()\n",
    "\n",
    "\n",
    "props['citycode'] = props['propertycountylandusecode'].apply(lambda x: str(x)[0:3])\n",
    "lbl = LabelEncoder()\n",
    "lbl.fit(list(props['citycode'].values))\n",
    "props['citycode'] = lbl.transform(list(props['citycode'].values))\n",
    "\n",
    "props['livingareaerror'] = props['calculatedfinishedsquarefeet'] / props['finishedsquarefeet12']\n",
    "\n",
    "props['livingareaprop'] = props['calculatedfinishedsquarefeet'] / props['lotsizesquarefeet']\n",
    "\n",
    "props['extraspace'] = props['lotsizesquarefeet'] - props['calculatedfinishedsquarefeet']\n",
    "\n",
    "props['life'] = 2019 - props['yearbuilt']\n",
    "\n",
    "props['totalrooms'] = props['bathroomcnt'] + props['bedroomcnt']\n",
    "\n",
    "props['averageroomsize'] = props['calculatedfinishedsquarefeet'] / props['roomcnt']\n",
    "\n",
    "props['extrarooms'] = props['roomcnt'] - props['totalrooms']\n",
    "\n",
    "props['valueproportion'] = props['structuretaxvaluedollarcnt'] / props['landtaxvaluedollarcnt']\n",
    "\n",
    "props[\"location1\"] = props[\"latitude\"] + props[\"longitude\"]\n",
    "\n",
    "props[\"location2\"] = props[\"latitude\"] * props[\"longitude\"]\n",
    "\n",
    "props['taxratio'] = props['taxvaluedollarcnt'] / props['taxamount']\n",
    "\n",
    "zip_count = props['regionidzip'].value_counts().to_dict()\n",
    "props['zipcount'] = props['regionidzip'].map(zip_count)\n",
    "\n",
    "city_count = props['regionidcity'].value_counts().to_dict()\n",
    "props['citycount'] = props['regionidcity'].map(city_count)\n",
    "\n",
    "region_count = props['regionidcounty'].value_counts().to_dict()\n",
    "props['countycount'] = props['regionidcounty'].map(region_count)"
   ]
  },
  {
   "cell_type": "markdown",
   "metadata": {},
   "source": [
    "Combine props and train and test datasets so we can get train datasets which include all features,test dataset should drop 6 columns for there are no these features in train dataset"
   ]
  },
  {
   "cell_type": "code",
   "execution_count": 6,
   "metadata": {},
   "outputs": [],
   "source": [
    "train_df = props.merge(train, how = 'left', on = 'parcelid') # get a complete dataframe\n",
    "test_df = props.merge(test_df, on='parcelid', how='left')\n",
    "test_df = test_df.drop(['201610', '201611', '201612', '201710', '201711', '201712'], axis = 1)"
   ]
  },
  {
   "cell_type": "markdown",
   "metadata": {},
   "source": [
    "get the outlier range"
   ]
  },
  {
   "cell_type": "code",
   "execution_count": 7,
   "metadata": {},
   "outputs": [
    {
     "name": "stdout",
     "output_type": "stream",
     "text": [
      "0.4959\n",
      "-0.33113825441859\n"
     ]
    }
   ],
   "source": [
    "# get outlier of logerror\n",
    "ulimit = np.percentile(train.logerror.values, 99)  \n",
    "print(ulimit)\n",
    "llimit = np.percentile(train.logerror.values, 1)\n",
    "print(llimit)"
   ]
  },
  {
   "cell_type": "markdown",
   "metadata": {},
   "source": [
    "filter the data which logerror is between the valuable data range and drop some useless feature for train dataset and test dataset"
   ]
  },
  {
   "cell_type": "code",
   "execution_count": 10,
   "metadata": {},
   "outputs": [],
   "source": [
    "\n",
    "train_df = train_df[train_df.logerror > -0.33113825441859]\n",
    "train_df = train_df[train_df.logerror <0.4959]\n",
    "do_not_include = ['parcelid', 'logerror', 'transactiondate','transactionday']\n",
    "feature_names = [f for f in train_df.columns if f not in do_not_include]\n",
    "\n",
    "X_train = train_df[feature_names].copy()\n",
    "y_train = train_df.logerror\n",
    "test_df = test_df.drop(['parcelid'] ,axis = 1)\n",
    "\n"
   ]
  },
  {
   "cell_type": "markdown",
   "metadata": {},
   "source": [
    "Find the feature name where the feature variable is a categorical variable"
   ]
  },
  {
   "cell_type": "code",
   "execution_count": 11,
   "metadata": {},
   "outputs": [],
   "source": [
    "# get the data index which is categorical \n",
    "s = (X_train.dtypes =='object')\n",
    "object_cols = list(s[s].index)"
   ]
  },
  {
   "cell_type": "markdown",
   "metadata": {},
   "source": [
    "Numerically represent the categorical variables for our train dataset and test dataset so that our model can be trained. \n",
    "Represent the remaining nan value with -1"
   ]
  },
  {
   "cell_type": "code",
   "execution_count": null,
   "metadata": {},
   "outputs": [],
   "source": [
    "from sklearn.preprocessing import LabelEncoder\n",
    "\n",
    "\n",
    "# use labelencoder to encoder X_train and test data\n",
    "label_X_train = X_train.copy()\n",
    "\n",
    "\n",
    "for col in label_X_train.columns:\n",
    "    label_X_train[col] = label_X_train[col].fillna(-1)\n",
    "    if label_X_train[col].dtype =='object':\n",
    "        lbl = LabelEncoder()\n",
    "        lbl.fit(list(label_X_train[col].values))\n",
    "        label_X_train[col] = lbl.transform(list(label_X_train[col].values))\n",
    "for col in test_df.columns:\n",
    "    test_df[col] = test_df[col].fillna(-1)\n",
    "    if  test_df[col].dtype == 'object':\n",
    "        lbl.fit(list(test_df[col].values))\n",
    "        test_df[col] = lbl.transform(list(test_df[col].values))\n",
    "\n",
    "    \n"
   ]
  },
  {
   "cell_type": "markdown",
   "metadata": {},
   "source": [
    "The following feature names have been created as new features in the above process, so these features can be deleted because their feature information has been included in the newly generated feature.If the feature manufacturing part is not running, then the code in the following part needs to be commented out"
   ]
  },
  {
   "cell_type": "code",
   "execution_count": null,
   "metadata": {},
   "outputs": [],
   "source": [
    "used_features = ['calculatedfinishedsquarefeet','finishedsquarefeet12',\n",
    "               'lotsizesquarefeet','yearbuilt','bathroomcnt','bedroomcnt'\n",
    "               ,'totalrooms','structuretaxvaluedollarcnt','landtaxvaluedollarcnt'\n",
    "               ,\"latitude\", \"longitude\",'taxvaluedollarcnt','taxamount','regionidcounty'\n",
    "                ,'regionidcity','regionidzip', \n",
    "               'averageroomsize']\n",
    "label_X_train_sf = label_X_train.drop(used_features ,axis = 1)"
   ]
  },
  {
   "cell_type": "markdown",
   "metadata": {},
   "source": [
    "If the feature manufacturing part is not running, then run the following line of code"
   ]
  },
  {
   "cell_type": "code",
   "execution_count": null,
   "metadata": {},
   "outputs": [],
   "source": [
    "# label_X_train_sf = label_X_train.copy()"
   ]
  },
  {
   "cell_type": "markdown",
   "metadata": {},
   "source": [
    "Add two columns of features to 6 test datasets, transactionyear and transactioinmonth, if you don't run the feature manufacturing part, you need to comment out drop used_features"
   ]
  },
  {
   "cell_type": "code",
   "execution_count": null,
   "metadata": {},
   "outputs": [],
   "source": [
    "\n",
    "\n",
    "test_201610 = test_df.copy()\n",
    "test_201610['transactionyear'] = 2016\n",
    "test_201610['transactionmonth'] = 10\n",
    "test_201610 = test_201610.drop(used_features ,axis = 1)\n",
    "\n",
    "test_201611 = test_df.copy()\n",
    "test_201611['transactionyear'] = 2016\n",
    "test_201611['transactionmonth'] = 11\n",
    "test_201611 = test_201611.drop(used_features ,axis = 1)\n",
    "\n",
    "test_201612 = test_df.copy()\n",
    "test_201612['transactionyear'] = 2016\n",
    "test_201612['transactionmonth'] = 12\n",
    "test_201612 = test_201612.drop(used_features ,axis = 1)\n",
    "\n",
    "test_201710 = test_df.copy()\n",
    "test_201710['transactionyear'] = 2017\n",
    "test_201710['transactionmonth'] = 10\n",
    "test_201710 = test_201710.drop(used_features ,axis = 1)\n",
    "\n",
    "test_201711 = test_df.copy()\n",
    "test_201711['transactionyear'] = 2017\n",
    "test_201711['transactionmonth'] = 11\n",
    "test_201711 = test_201711.drop(used_features ,axis = 1)\n",
    "\n",
    "test_201712 = test_df.copy()\n",
    "test_201712['transactionyear'] = 2017\n",
    "test_201712['transactionmonth'] = 12\n",
    "test_201712 = test_201712.drop(used_features ,axis = 1)\n",
    "\n"
   ]
  },
  {
   "cell_type": "markdown",
   "metadata": {},
   "source": [
    "The following part is to reduce the dimension of the data. If you don’t want to reduce the dimension, you don't need  to run the code"
   ]
  },
  {
   "cell_type": "code",
   "execution_count": null,
   "metadata": {},
   "outputs": [],
   "source": [
    "from sklearn.decomposition import PCA\n",
    "\n",
    "\n",
    "pca = PCA(n_components = 8)\n",
    "pca = pca.fit(label_X_train_sf)\n",
    "\n",
    "label_x_train_sf = pca.transform(label_X_train_sf)\n",
    "test_201610 = pca.transform(test_201610)\n",
    "test_201611 = pca.transform(test_201611)\n",
    "test_201612 = pca.transform(test_201612)\n",
    "test_201710 = pca.transform(test_201710)\n",
    "test_201711 = pca.transform(test_201711)\n",
    "test_201712 = pca.transform(test_201712)"
   ]
  },
  {
   "cell_type": "markdown",
   "metadata": {},
   "source": [
    "The following part is data standardization, you can skip if not running"
   ]
  },
  {
   "cell_type": "code",
   "execution_count": null,
   "metadata": {},
   "outputs": [],
   "source": [
    "from sklearn.preprocessing import MinMaxScaler\n",
    "\n",
    "scaler = MinMaxScaler()\n",
    "label_X_train_sf = scaler.fit_transform(label_X_train_sf)\n",
    "test_201610 = scaler.fit_transform(test_201610)\n",
    "test_201611 = scaler.fit_transform(test_201611)\n",
    "test_201612 = scaler.fit_transform(test_201612)\n",
    "test_201710 = scaler.fit_transform(test_201710)\n",
    "test_201711 = scaler.fit_transform(test_201711)\n",
    "test_201712 = scaler.fit_transform(test_201712)"
   ]
  },
  {
   "cell_type": "markdown",
   "metadata": {},
   "source": [
    "Free useless variable memory"
   ]
  },
  {
   "cell_type": "code",
   "execution_count": null,
   "metadata": {},
   "outputs": [],
   "source": [
    "import gc\n",
    "\n",
    "del label_X_train,X_train, train_df, test_df,props, train_2016, train_2017 ; gc.collect()"
   ]
  },
  {
   "cell_type": "markdown",
   "metadata": {},
   "source": [
    "## XGBoost"
   ]
  },
  {
   "cell_type": "markdown",
   "metadata": {},
   "source": [
    "### Parameter Tuning \n",
    "Use the grid search to get the best combination of parameters, the best results have been obtained, and the running time is extremely long."
   ]
  },
  {
   "cell_type": "code",
   "execution_count": null,
   "metadata": {},
   "outputs": [],
   "source": [
    "from xgboost import XGBRegressor\n",
    "from sklearn.model_selection import GridSearchCV\n",
    "\n",
    "parameters = {\"n_estimators\": np.arange(200,500,50)\n",
    "             , \"learning_rate\": np.arange(0.006, 0.02, 0.002)\n",
    "             , \"max_depth\": np.arange(6,9,1)\n",
    "             , \"gamma\": np.arange(0.5,2,0.3)\n",
    "             , \"reg_lambda\": np.arange(0.5,2, 0.3)\n",
    "             , \"early_stopping_rounds\": np.arange(5, 20, 2)\n",
    "              ,\"reg_alpha\": np.arange(0.5, 2, 0.2)\n",
    "             }\n",
    "\n",
    "reg =  XGBRegressor(n_estimators = 450\n",
    "                          , early_stopping_rounds = 5\n",
    "                           , learning_rate = 0.014 \n",
    "                           , max_depth = 6\n",
    "                           , objective='reg:squarederror'\n",
    "                          # , subsample = 0.7\n",
    "                          #, reg_alpha = 0.9\n",
    "                          , reg_lambda = 1.4\n",
    "                         , gamma = 0.5)\n",
    "GS = GridSearchCV(reg, parameters, cv=3)\n",
    "GS.fit(label_X_train_sf, y_train)\n",
    "GS.best_params_\n",
    "\n",
    " "
   ]
  },
  {
   "cell_type": "markdown",
   "metadata": {},
   "source": [
    "Use XGBoost algorithm for training"
   ]
  },
  {
   "cell_type": "code",
   "execution_count": null,
   "metadata": {},
   "outputs": [],
   "source": [
    "from xgboost import XGBRegressor\n",
    "\n",
    "XGB_model_2 = XGBRegressor( n_estimators = 450\n",
    "                         , early_stopping_rounds = 5\n",
    "                         , learning_rate = 0.014\n",
    "                         , max_depth = 5\n",
    "                         , objective='reg:squarederror'\n",
    "                         , reg_alpha = 0.7\n",
    "                         , reg_lambda = 1.4\n",
    "                         , gamma = 0.5\n",
    "                          )\n",
    "\n",
    "XGB_model_2.fit(label_X_train_sf, y_train)\n"
   ]
  },
  {
   "cell_type": "markdown",
   "metadata": {},
   "source": [
    "Generate submission file and convert it to csv file"
   ]
  },
  {
   "cell_type": "code",
   "execution_count": null,
   "metadata": {},
   "outputs": [],
   "source": [
    "sample_submission['201610'] = XGB_model_2.predict(test_201610)\n",
    "sample_submission['201611'] = XGB_model_2.predict(test_201611)\n",
    "sample_submission['201612'] = XGB_model_2.predict(test_201612)\n",
    "sample_submission['201710'] = XGB_model_2.predict(test_201710)\n",
    "sample_submission['201711'] = XGB_model_2.predict(test_201711)\n",
    "sample_submission['201712'] = XGB_model_2.predict(test_201712)\n",
    "sample_submission.to_csv(data_dir + 'XGB_output.csv', index = False)"
   ]
  },
  {
   "cell_type": "markdown",
   "metadata": {},
   "source": [
    "## LightGBM part"
   ]
  },
  {
   "cell_type": "markdown",
   "metadata": {},
   "source": [
    "### Parameter Tuning"
   ]
  },
  {
   "cell_type": "code",
   "execution_count": null,
   "metadata": {},
   "outputs": [],
   "source": [
    "from hyperopt import hp, tpe, fmin, Trials\n",
    "from sklearn.model_selection import KFold\n",
    "no_fold = 4\n",
    "\n",
    "# def objective_fun(boosting_type, num_leaves, max_depth, learning_rate, n_estimators, \\\n",
    "#                   min_split_gain, min_child_weight, min_child_samples, subsample, subsample_freq, \\\n",
    "#                   subsample_freq, colsample_bytree, reg_alpha, reg_lambda, random_state):\n",
    "#     model = LGBMRegressor(boosting_type, num_leaves, max_depth, learning_rate, n_estimators, \\\n",
    "#                   min_split_gain, min_child_weight, min_child_samples, \\\n",
    "#                   subsample_freq, colsample_bytree, reg_alpha, reg_lambda, random_state)\n",
    "def objective_fun(args):\n",
    "#     boosting_type, num_leaves, max_depth, learning_rate, n_estimators, min_split_gain, min_child_weight, \\\n",
    "#     min_child_samples, subsample, subsample_freq, colsample_bytree, reg_alpha, reg_lambda, random_state = args\n",
    "#     model = LGBMRegressor(boosting_type=boosting_type, num_leaves=num_leaves, max_depth=max_depth, \\\n",
    "#                           learning_rate=learning_rate, n_estimators=n_estimators, \\\n",
    "#                           min_split_gain=min_split_gain, min_child_weight=min_child_weight, \\\n",
    "#                           min_child_samples=min_child_samples, subsample_freq, \\\n",
    "#                           subsample_freq=subsample_freq, colsample_bytree=colsample_bytree, \\\n",
    "#                           reg_alpha=reg_alpha, reg_lambda=reg_lambda, random_state=random_state)\n",
    "    model = LGBMRegressor(num_leaves=int(args['num_leaves']), \\\n",
    "                          max_depth=int(args['max_depth']), learning_rate=args['learning_rate'], \\\n",
    "                          n_estimators=int(args['n_estimators']), min_split_gain=args['min_split_gain'], \\\n",
    "                          min_child_weight=args['min_child_weight'], min_child_samples=int(args['min_child_samples']), \\\n",
    "                          subsample=args['subsample'], subsample_freq=int(args['subsample_freq']), \\\n",
    "                          colsample_bytree=args['colsample_bytree'], reg_alpha=args['reg_alpha'], \\\n",
    "                          reg_lambda=args['reg_lambda'], random_state=args['random_state'])\n",
    "    kf = KFold(n_splits=no_fold)\n",
    "    loss = 0\n",
    "    for index_tr, index_val in kf.split(training_data[features], training_data['logerror']):\n",
    "        data_tr = training_data.iloc[index_tr]\n",
    "        data_val = training_data.iloc[index_val]\n",
    "        model.fit(data_tr[features], data_tr['logerror'])\n",
    "        prediction = model.predict(data_val[features])\n",
    "        loss += metrics.mean_absolute_error(data_val['logerror'], prediction) / no_fold\n",
    "    return {\n",
    "        'status' : 'ok',\n",
    "        'loss' : loss\n",
    "    }\n",
    "\n",
    "hp_space = {\n",
    "#    'boosting_type' : hp.choice('boosting_type', ['gbdt', 'dart', 'goss', 'rf']),\n",
    "    'num_leaves' : hp.quniform('num_leaves', 10, 500, 1),\n",
    "    'max_depth' : hp.quniform('max_depth', 10, 500, 1),\n",
    "    'learning_rate' : hp.uniform('learning_rate', 0.0001, 0.1),\n",
    "    'n_estimators' : hp.quniform('n_estimators', 10, 1000, 1),\n",
    "    'min_split_gain' : hp.uniform('min_split_gain', 0, 1),\n",
    "    'min_child_weight' : hp.uniform('min_child_weight', 0.0001, 1),\n",
    "    'min_child_samples' : hp.quniform('min_child_samples', 10, 500, 1),\n",
    "    'subsample' : hp.uniform('subsample', 0, 1),\n",
    "    'subsample_freq' : hp.quniform('subsample_freq', 0, 5000, 1),\n",
    "    'colsample_bytree' : hp.uniform('colsample_bytree', 0, 1),\n",
    "    'reg_alpha' : hp.uniform('reg_alpha', 0, 5),\n",
    "    'reg_lambda' : hp.uniform('reg_lambda', 0, 5),\n",
    "    'random_state' :  None\n",
    "}\n",
    "\n",
    "trials = Trials()\n",
    "\n",
    "best = fmin(fn=objective_fun, space=hp_space, algo=tpe.suggest, max_evals=1000, trials=trials)\n",
    "\n",
    "import pickle\n",
    "with open('trials', 'wb') as file:\n",
    "    pickle.dump(best, file)\n",
    "    pickle.dump(trials, file)"
   ]
  },
  {
   "cell_type": "markdown",
   "metadata": {},
   "source": [
    "get best hyperparameters combination "
   ]
  },
  {
   "cell_type": "code",
   "execution_count": null,
   "metadata": {},
   "outputs": [],
   "source": [
    "best ={'colsample_bytree': 0.2147467656099759,\n",
    " 'learning_rate': 0.007138343861070687,\n",
    " 'max_depth': 442.0,\n",
    " 'min_child_samples': 23.0,\n",
    " 'min_child_weight': 0.8464143518606242,\n",
    " 'min_split_gain': 0.000172647682586337,\n",
    " 'n_estimators': 149.0,\n",
    " 'num_leaves': 188.0,\n",
    " 'reg_alpha': 2.6763347204500403,\n",
    " 'reg_lambda': 2.5674135399163243,\n",
    " 'subsample': 0.9996855816069476,\n",
    " 'subsample_freq': 2629.0}"
   ]
  },
  {
   "cell_type": "markdown",
   "metadata": {},
   "source": [
    "use LightGBM to train model"
   ]
  },
  {
   "cell_type": "code",
   "execution_count": null,
   "metadata": {},
   "outputs": [],
   "source": [
    "from lightgbm import LGBMRegressor\n",
    "\n",
    "\n",
    "LGB_model_1 = LGBMRegressor(colsample_bytree=best['colsample_bytree'], learning_rate=best['learning_rate'], \\\n",
    "                            max_depth=int(best['max_depth']), min_child_samples=int(best['min_child_samples']), \\\n",
    "                            min_child_weight=best['min_child_weight'], min_split_gain=best['min_split_gain'], \\\n",
    "                            n_estimators=int(best['n_estimators']), num_leaves=int(best['num_leaves']), \\\n",
    "                            reg_alpha=best['reg_alpha'], reg_lambda=best['reg_lambda'], \\\n",
    "                            subsample=best['subsample'], subsample_freq=int(best['subsample_freq']))\n",
    "LGB_model_1.fit(label_X_train_sf, y_train)\n"
   ]
  },
  {
   "cell_type": "markdown",
   "metadata": {},
   "source": [
    "Generate submission file and convert it to csv file"
   ]
  },
  {
   "cell_type": "code",
   "execution_count": null,
   "metadata": {},
   "outputs": [],
   "source": [
    "sample_submission2['201610'] = LGB_model_1.predict(test_201610)\n",
    "sample_submission2['201611'] = LGB_model_1.predict(test_201611)\n",
    "sample_submission2['201612'] = LGB_model_1.predict(test_201612)\n",
    "sample_submission2['201710'] = LGB_model_1.predict(test_201710)\n",
    "sample_submission2['201711'] = LGB_model_1.predict(test_201711)\n",
    "sample_submission2['201712'] = LGB_model_1.predict(test_201712)\n",
    "sample_submission2.to_csv(data_dir + 'LGB_output.csv', index = False)"
   ]
  },
  {
   "cell_type": "markdown",
   "metadata": {},
   "source": [
    "## Lasso Part\n",
    "### Parameter Tuning\n",
    "\n",
    "adjust alpha automatically"
   ]
  },
  {
   "cell_type": "code",
   "execution_count": null,
   "metadata": {},
   "outputs": [],
   "source": [
    "\n",
    "from sklearn.linear_model import Lasso,LassoCV,LassoLarsCV\n",
    "lasso = Lasso(alpha = 1,max_iter = 10000)\n",
    "# adjust alpha automatically\n",
    "#lasso = LassoCV()\n",
    "#lasso = LassoLarsCV()\n",
    "lasso.fit(label_X_train_sf,y_train)\n",
    "print(\"lasso regression model:\",lasso)\n",
    "\n",
    "\n"
   ]
  },
  {
   "cell_type": "markdown",
   "metadata": {},
   "source": [
    "Generate submission file and convert it to csv file"
   ]
  },
  {
   "cell_type": "code",
   "execution_count": null,
   "metadata": {},
   "outputs": [],
   "source": [
    "sample_submission3['201610'] = lasso.predict(test_201610)\n",
    "sample_submission3['201611'] = lasso.predict(test_201611)\n",
    "sample_submission3['201612'] = lasso.predict(test_201612)\n",
    "sample_submission3['201710'] = lasso.predict(test_201710)\n",
    "sample_submission3['201711'] = lasso.predict(test_201711)\n",
    "sample_submission3['201712'] = lasso.predict(test_201712)\n",
    "sample_submission3.to_csv(data_dir + 'lasso_output.csv', index = False)"
   ]
  },
  {
   "cell_type": "markdown",
   "metadata": {},
   "source": [
    "## Random Forest\n",
    "## Parameter Tuning\n",
    "Use the grid search to get the best combination of parameters, the best results have been obtained, and the running time is extremely long."
   ]
  },
  {
   "cell_type": "code",
   "execution_count": null,
   "metadata": {},
   "outputs": [],
   "source": [
    "GridSearchCV to find better parametres\n",
    "from sklearn.ensemble import RandomForestRegressor\n",
    "from sklearn.model_selection import GridSearchCV\n",
    "\n",
    "parameters = { \"n_estimators\": [20,30,40], \n",
    "               \"max_depth\": [90,100,110],\n",
    "               \"max_features\": [4,5,6,7]\n",
    "             }\n",
    "rf_draft = RandomForestRegressor(n_estimators=30,max_depth=100,random_state=42,max_features=5)\n",
    "GS = GridSearchCV(rf_draft, parameters, cv=3)\n",
    "GS.fit(label_X_train_sf, y_train)\n",
    "GS.best_params_\n"
   ]
  },
  {
   "cell_type": "markdown",
   "metadata": {},
   "source": [
    "{'max_depth': 90, 'max_features': 4, 'n_estimators': 40}"
   ]
  },
  {
   "cell_type": "markdown",
   "metadata": {},
   "source": [
    "Use Random Forest to train and make prediction "
   ]
  },
  {
   "cell_type": "code",
   "execution_count": null,
   "metadata": {},
   "outputs": [],
   "source": [
    "from sklearn.ensemble import RandomForestRegressor\n",
    "rf = RandomForestRegressor(n_estimators=40,max_depth=90,random_state=42,max_features=4)#,criterion='mae')\n",
    "rf.fit(label_X_train_sf, y_train)"
   ]
  },
  {
   "cell_type": "markdown",
   "metadata": {},
   "source": [
    "Generate submission file and convert it to csv file"
   ]
  },
  {
   "cell_type": "code",
   "execution_count": null,
   "metadata": {},
   "outputs": [],
   "source": [
    "sample_submission4['201610'] = rf.predict(test_201610)\n",
    "sample_submission4['201611'] = rf.predict(test_201611)\n",
    "sample_submission4['201612'] = rf.predict(test_201612)\n",
    "sample_submission4['201710'] = rf.predict(test_201710)\n",
    "sample_submission4['201711'] = rf.predict(test_201711)\n",
    "sample_submission4['201712'] = rf.predict(test_201712)\n",
    "sample_submission4.to_csv(data_dir + 'random_forest_output.csv', index = False)"
   ]
  },
  {
   "cell_type": "code",
   "execution_count": null,
   "metadata": {},
   "outputs": [],
   "source": [
    "xgb_ratio = 0.4\n",
    "lgb_ratio = 0.3\n",
    "lasso_ratio = 0.3\n"
   ]
  },
  {
   "cell_type": "markdown",
   "metadata": {},
   "source": [
    "Generate combination algorithm prediction based on XGBoost and lightGBM and lasso"
   ]
  },
  {
   "cell_type": "code",
   "execution_count": null,
   "metadata": {},
   "outputs": [],
   "source": [
    "\n",
    "sample_submission5['201610'] = xgb_ratio * sample_submission['201610']+lgb_ratio * sample_submission2['201610']+lasso_ratio * sample_submission3['201610']  \n",
    "sample_submission5['201611'] = xgb_ratio * sample_submission['201611']+lgb_ratio * sample_submission2['201611']+lasso_ratio * sample_submission3['201611']  \n",
    "sample_submission5['201612'] = xgb_ratio * sample_submission['201612']+lgb_ratio * sample_submission2['201612']+lasso_ratio * sample_submission3['201612']  \n",
    "sample_submission5['201710'] = xgb_ratio * sample_submission['201710']+lgb_ratio * sample_submission2['201710']+lasso_ratio * sample_submission3['201710'] \n",
    "sample_submission5['201711'] = xgb_ratio * sample_submission['201711']+lgb_ratio * sample_submission2['201711']+lasso_ratio * sample_submission3['201711']  \n",
    "sample_submission5['201712'] = xgb_ratio * sample_submission['201712']+lgb_ratio * sample_submission2['201712']+lasso_ratio * sample_submission3['201712'] \n",
    "sample_submission5.to_csv(data_dir + 'combination_output_withoutRF.csv', index = False)"
   ]
  }
 ],
 "metadata": {
  "kernelspec": {
   "display_name": "Python 3",
   "language": "python",
   "name": "python3"
  },
  "language_info": {
   "codemirror_mode": {
    "name": "ipython",
    "version": 3
   },
   "file_extension": ".py",
   "mimetype": "text/x-python",
   "name": "python",
   "nbconvert_exporter": "python",
   "pygments_lexer": "ipython3",
   "version": "3.7.4"
  }
 },
 "nbformat": 4,
 "nbformat_minor": 2
}
